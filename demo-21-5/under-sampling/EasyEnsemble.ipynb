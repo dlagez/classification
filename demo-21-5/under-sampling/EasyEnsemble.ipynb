{
 "cells": [
  {
   "cell_type": "code",
   "execution_count": 4,
   "metadata": {
    "collapsed": true
   },
   "outputs": [],
   "source": [
    "from imblearn.ensemble import EasyEnsembleClassifier\n",
    "eec = EasyEnsembleClassifier(random_state=42)"
   ]
  },
  {
   "cell_type": "code",
   "execution_count": 5,
   "outputs": [],
   "source": [
    "# 平衡是通过随机的抽样来实现的\n",
    "import scipy\n",
    "import scipy.io as scio\n",
    "import numpy as np\n",
    "import os\n",
    "# 读取训练和测试数据\n",
    "data_root = '/data/file/classification_data/years/sum_2016/'\n",
    "train_sumX_2016_norm = scio.loadmat(os.path.join(data_root, 'train_sumX_2016_norm.mat'))['X']\n",
    "train_sumy_2016_label = scio.loadmat(os.path.join(data_root, 'train_sumy_2016_label.mat'))['y']\n",
    "\n",
    "test_sumX_2016_norm = scio.loadmat(os.path.join(data_root, 'test_sumX_2016_norm.mat'))['X']\n",
    "test_sumy_2016_label = scio.loadmat(os.path.join(data_root, 'test_sumy_2016_label.mat'))['y']\n"
   ],
   "metadata": {
    "collapsed": false,
    "pycharm": {
     "name": "#%%\n"
    }
   }
  },
  {
   "cell_type": "code",
   "execution_count": 6,
   "outputs": [
    {
     "name": "stderr",
     "output_type": "stream",
     "text": [
      "/home/roczhang/anaconda3/envs/dataAna/lib/python3.6/site-packages/sklearn/utils/validation.py:63: DataConversionWarning: A column-vector y was passed when a 1d array was expected. Please change the shape of y to (n_samples, ), for example using ravel().\n",
      "  return f(*args, **kwargs)\n"
     ]
    },
    {
     "data": {
      "text/plain": "EasyEnsembleClassifier(random_state=42)"
     },
     "execution_count": 6,
     "metadata": {},
     "output_type": "execute_result"
    }
   ],
   "source": [
    "# 训练\n",
    "eec.fit(train_sumX_2016_norm, train_sumy_2016_label)\n"
   ],
   "metadata": {
    "collapsed": false,
    "pycharm": {
     "name": "#%%\n"
    }
   }
  },
  {
   "cell_type": "code",
   "execution_count": 7,
   "outputs": [
    {
     "data": {
      "text/plain": "array([0, 0, 0, 0, 0, 0, 0, 0, 0, 0, 0, 0, 0, 0, 0, 0, 0, 0, 0, 0, 0, 0,\n       0, 0, 0, 0, 0, 0, 0, 0, 0, 0, 0, 0, 0, 0, 0, 1, 0, 1, 0, 0, 0, 0,\n       0, 0, 0, 0, 0, 0, 1, 0, 1, 0, 0, 1, 1, 1, 1, 0, 0, 1, 1, 1, 1, 1,\n       1, 1, 0, 1, 1, 0, 0, 0, 0, 0, 1, 0, 1, 0, 1, 1, 1, 0, 0, 0, 0, 1,\n       0, 0, 0, 0, 1, 1, 1, 0, 1, 1, 0, 1, 1, 1, 1, 1, 1, 0, 1, 0, 1, 0,\n       0, 0])"
     },
     "execution_count": 7,
     "metadata": {},
     "output_type": "execute_result"
    }
   ],
   "source": [
    "y_pred = eec.predict(test_sumX_2016_norm)\n",
    "y_pred"
   ],
   "metadata": {
    "collapsed": false,
    "pycharm": {
     "name": "#%%\n"
    }
   }
  },
  {
   "cell_type": "code",
   "execution_count": 8,
   "outputs": [
    {
     "data": {
      "text/plain": "0.7321428571428571"
     },
     "execution_count": 8,
     "metadata": {},
     "output_type": "execute_result"
    }
   ],
   "source": [
    "from sklearn.metrics import balanced_accuracy_score\n",
    "eec.score(test_sumX_2016_norm, test_sumy_2016_label)"
   ],
   "metadata": {
    "collapsed": false,
    "pycharm": {
     "name": "#%%\n"
    }
   }
  },
  {
   "cell_type": "code",
   "execution_count": 9,
   "outputs": [
    {
     "data": {
      "text/plain": "0.7660818713450293"
     },
     "execution_count": 9,
     "metadata": {},
     "output_type": "execute_result"
    }
   ],
   "source": [
    "balanced_accuracy_score(y_pred, test_sumy_2016_label)"
   ],
   "metadata": {
    "collapsed": false,
    "pycharm": {
     "name": "#%%\n"
    }
   }
  },
  {
   "cell_type": "code",
   "execution_count": 13,
   "outputs": [
    {
     "data": {
      "text/plain": "array([0.4772169 , 0.48976542, 0.47183124, 0.48086418, 0.49034344,\n       0.47612863, 0.47027067, 0.44251055, 0.42537361, 0.47260111,\n       0.47548594, 0.46740623, 0.48109356, 0.48744835, 0.47136725,\n       0.47932675, 0.44658152, 0.45571988, 0.46634576, 0.4777619 ,\n       0.49073426, 0.47412499, 0.48426222, 0.47425686, 0.45505161,\n       0.47805634, 0.46357015, 0.4941708 , 0.47220386, 0.47721222,\n       0.45307684, 0.4932785 , 0.49003648, 0.48371089, 0.4480103 ,\n       0.48023593, 0.45611316, 0.53129876, 0.48149566, 0.51137177,\n       0.47753271, 0.49191824, 0.47831963, 0.46178845, 0.48546167,\n       0.48113843, 0.46070696, 0.46396865, 0.46677858, 0.47244967,\n       0.52186386, 0.44633896, 0.52720436, 0.48713626, 0.4816954 ,\n       0.50127771, 0.52077218, 0.50444423, 0.52253834, 0.49414737,\n       0.49412802, 0.53044833, 0.51915533, 0.50576517, 0.52783672,\n       0.5393994 , 0.51663399, 0.52768164, 0.49952895, 0.53677247,\n       0.50646611, 0.48300426, 0.49003333, 0.49018243, 0.49905061,\n       0.49793444, 0.50432569, 0.4903313 , 0.5226523 , 0.49120396,\n       0.5164727 , 0.5843921 , 0.54368612, 0.46095209, 0.49651487,\n       0.49411833, 0.46812291, 0.51570915, 0.49111962, 0.49396095,\n       0.45164558, 0.47965809, 0.54646401, 0.50377688, 0.53848416,\n       0.49101925, 0.52155675, 0.50459401, 0.49078865, 0.50682701,\n       0.53926808, 0.5512322 , 0.53459209, 0.52382259, 0.50105822,\n       0.49615846, 0.58782544, 0.47452672, 0.51873637, 0.44307584,\n       0.44501791, 0.45146753])"
     },
     "execution_count": 13,
     "metadata": {},
     "output_type": "execute_result"
    }
   ],
   "source": [
    "pos_prob_eec = eec.predict_proba(test_sumX_2016_norm)[:, 1]\n",
    "\n",
    "pos_prob_eec"
   ],
   "metadata": {
    "collapsed": false,
    "pycharm": {
     "name": "#%%\n"
    }
   }
  },
  {
   "cell_type": "code",
   "execution_count": 14,
   "outputs": [],
   "source": [
    "def get_roc(pos_prob,y_true):\n",
    "\n",
    "    pos = y_true[y_true==1]  # 145\n",
    "    neg = y_true[y_true==0]  # 855\n",
    "    # [::-1]逆序切片\n",
    "    threshold = np.sort(pos_prob)[::-1]  # 按预测为正的概率大小逆序排列\n",
    "    y = y_true[pos_prob.argsort()[::-1]]\n",
    "\n",
    "    tpr_all = [0] ; fpr_all = [0]\n",
    "    tpr = 0 ; fpr = 0\n",
    "    x_step = 1/float(len(neg))  # 0.0011695906432748538\n",
    "    y_step = 1/float(len(pos))  # 0.006896551724137931\n",
    "    y_sum = 0\n",
    "    for i in range(len(threshold)):  # 1000\n",
    "        if y[i] == 1:\n",
    "            tpr += y_step\n",
    "            tpr_all.append(tpr)\n",
    "            fpr_all.append(fpr)\n",
    "        else:\n",
    "            fpr += x_step\n",
    "            fpr_all.append(fpr)\n",
    "            tpr_all.append(tpr)\n",
    "            y_sum += tpr             # fpr加一个样本，y_sum累计。计算面积\n",
    "    return tpr_all,fpr_all,y_sum*x_step  # 获得总体TPR，FPR和相应的AUC"
   ],
   "metadata": {
    "collapsed": false,
    "pycharm": {
     "name": "#%%\n"
    }
   }
  },
  {
   "cell_type": "code",
   "execution_count": 15,
   "outputs": [],
   "source": [
    "tpr, fpr, auc = get_roc(pos_prob_eec, test_sumy_2016_label)"
   ],
   "metadata": {
    "collapsed": false,
    "pycharm": {
     "name": "#%%\n"
    }
   }
  },
  {
   "cell_type": "code",
   "execution_count": 17,
   "outputs": [
    {
     "data": {
      "text/plain": "<Figure size 720x432 with 1 Axes>",
      "image/png": "[encoded data removed]"
     },
     "metadata": {
      "needs_background": "light"
     },
     "output_type": "display_data"
    }
   ],
   "source": [
    "import matplotlib.pylab as plt\n",
    "\n",
    "plt.figure(figsize=(10,6))\n",
    "plt.plot(fpr,tpr,label=\"Logistic Regression (AUC: {:.3f})\".format(auc),linewidth=2)\n",
    "plt.xlabel(\"False Positive Rate\",fontsize=16)\n",
    "plt.ylabel(\"True Positive Rate\",fontsize=16)\n",
    "plt.title(\"ROC Curve\",fontsize=16)\n",
    "plt.legend(loc=\"lower right\",fontsize=16)\n",
    "plt.show()"
   ],
   "metadata": {
    "collapsed": false,
    "pycharm": {
     "name": "#%%\n"
    }
   }
  },
  {
   "cell_type": "code",
   "execution_count": null,
   "outputs": [],
   "source": [],
   "metadata": {
    "collapsed": false,
    "pycharm": {
     "name": "#%%\n"
    }
   }
  }
 ],
 "metadata": {
  "kernelspec": {
   "display_name": "Python 3",
   "language": "python",
   "name": "python3"
  },
  "language_info": {
   "codemirror_mode": {
    "name": "ipython",
    "version": 2
   },
   "file_extension": ".py",
   "mimetype": "text/x-python",
   "name": "python",
   "nbconvert_exporter": "python",
   "pygments_lexer": "ipython2",
   "version": "2.7.6"
  }
 },
 "nbformat": 4,
 "nbformat_minor": 0
}