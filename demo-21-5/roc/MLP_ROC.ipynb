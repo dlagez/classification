{
 "cells": [
  {
   "cell_type": "code",
   "execution_count": 1,
   "metadata": {
    "collapsed": true
   },
   "outputs": [],
   "source": [
    "import scipy.io as scio\n",
    "import numpy as np\n",
    "import os"
   ]
  },
  {
   "cell_type": "code",
   "execution_count": 21,
   "outputs": [],
   "source": [
    "from sklearn.metrics import balanced_accuracy_score\n",
    "\n",
    "data_root = '/data/file/classification_data/SVM数据/T32/'\n",
    "\n",
    "traindata = scio.loadmat(os.path.join(data_root, 'traindata.mat'))['x_train']\n",
    "trainlabel = scio.loadmat(os.path.join(data_root, 'trainlabel.mat'))['trainlabel']\n",
    "testdata = scio.loadmat(os.path.join(data_root, 'testdata'))['x_test']\n",
    "testlabel = scio.loadmat(os.path.join(data_root, 'testlabel'))['testlabel']"
   ],
   "metadata": {
    "collapsed": false,
    "pycharm": {
     "name": "#%%\n"
    }
   }
  },
  {
   "cell_type": "code",
   "execution_count": 13,
   "outputs": [
    {
     "name": "stderr",
     "output_type": "stream",
     "text": [
      "/home/roczhang/anaconda3/envs/dataAna/lib/python3.6/site-packages/sklearn/utils/validation.py:63: DataConversionWarning: A column-vector y was passed when a 1d array was expected. Please change the shape of y to (n_samples, ), for example using ravel().\n",
      "  return f(*args, **kwargs)\n"
     ]
    },
    {
     "data": {
      "text/plain": "MLPClassifier(max_iter=300, random_state=1)"
     },
     "execution_count": 13,
     "metadata": {},
     "output_type": "execute_result"
    }
   ],
   "source": [
    "from sklearn.neural_network import MLPClassifier\n",
    "clf = MLPClassifier(random_state=1, max_iter=300)\n",
    "clf.fit(traindata, trainlabel)"
   ],
   "metadata": {
    "collapsed": false,
    "pycharm": {
     "name": "#%%\n"
    }
   }
  },
  {
   "cell_type": "code",
   "execution_count": 14,
   "outputs": [
    {
     "data": {
      "text/plain": "0.6071428571428571"
     },
     "execution_count": 14,
     "metadata": {},
     "output_type": "execute_result"
    }
   ],
   "source": [
    "# 返回给定测试数据和标签的平均精度。\n",
    "clf.score(testdata, testlabel)"
   ],
   "metadata": {
    "collapsed": false,
    "pycharm": {
     "name": "#%%\n"
    }
   }
  },
  {
   "cell_type": "code",
   "execution_count": 22,
   "outputs": [
    {
     "data": {
      "text/plain": "0.698581560283688"
     },
     "execution_count": 22,
     "metadata": {},
     "output_type": "execute_result"
    }
   ],
   "source": [
    "y_pred = clf.predict(testdata)\n",
    "# 处理不平衡数据集的二分类和多分类问题的平衡精度。它被定义为每个类的平均召回率。\n",
    "balanced_accuracy_score(y_pred, testlabel)"
   ],
   "metadata": {
    "collapsed": false,
    "pycharm": {
     "name": "#%%\n"
    }
   }
  },
  {
   "cell_type": "code",
   "execution_count": 23,
   "outputs": [],
   "source": [
    "pos_prob =  clf.predict_proba(testdata)[:, 1]"
   ],
   "metadata": {
    "collapsed": false,
    "pycharm": {
     "name": "#%%\n"
    }
   }
  },
  {
   "cell_type": "code",
   "execution_count": 16,
   "outputs": [],
   "source": [
    "def get_roc(pos_prob,y_true):\n",
    "\n",
    "    pos = y_true[y_true==1]  # 145\n",
    "    neg = y_true[y_true==0]  # 855\n",
    "    # [::-1]逆序切片\n",
    "    threshold = np.sort(pos_prob)[::-1]  # 按预测为正的概率大小逆序排列\n",
    "    y = y_true[pos_prob.argsort()[::-1]]\n",
    "\n",
    "    tpr_all = [0] ; fpr_all = [0]\n",
    "    tpr = 0 ; fpr = 0\n",
    "    x_step = 1/float(len(neg))  # 0.0011695906432748538\n",
    "    y_step = 1/float(len(pos))  # 0.006896551724137931\n",
    "    y_sum = 0\n",
    "    for i in range(len(threshold)):  # 1000\n",
    "        if y[i] == 1:\n",
    "            tpr += y_step\n",
    "            tpr_all.append(tpr)\n",
    "            fpr_all.append(fpr)\n",
    "        else:\n",
    "            fpr += x_step\n",
    "            fpr_all.append(fpr)\n",
    "            tpr_all.append(tpr)\n",
    "            y_sum += tpr             # fpr加一个样本，y_sum累计。计算面积\n",
    "    return tpr_all,fpr_all,y_sum*x_step  # 获得总体TPR，FPR和相应的AUC"
   ],
   "metadata": {
    "collapsed": false,
    "pycharm": {
     "name": "#%%\n"
    }
   }
  },
  {
   "cell_type": "code",
   "execution_count": 17,
   "outputs": [],
   "source": [
    "tpr, fpr, auc = get_roc(pos_prob, testlabel)"
   ],
   "metadata": {
    "collapsed": false,
    "pycharm": {
     "name": "#%%\n"
    }
   }
  },
  {
   "cell_type": "code",
   "execution_count": 19,
   "outputs": [
    {
     "data": {
      "text/plain": "<Figure size 720x432 with 1 Axes>",
      "image/png": "[encoded data removed]"
     },
     "metadata": {
      "needs_background": "light"
     },
     "output_type": "display_data"
    }
   ],
   "source": [
    "import matplotlib.pylab as plt\n",
    "\n",
    "plt.figure(figsize=(10,6))\n",
    "plt.plot(fpr,tpr,label=\"MLP (AUC: {:.3f})\".format(auc),linewidth=2)\n",
    "plt.xlabel(\"False Positive Rate\",fontsize=16)\n",
    "plt.ylabel(\"True Positive Rate\",fontsize=16)\n",
    "plt.title(\"ROC Curve\",fontsize=16)\n",
    "plt.legend(loc=\"lower right\",fontsize=16)\n",
    "plt.show()"
   ],
   "metadata": {
    "collapsed": false,
    "pycharm": {
     "name": "#%%\n"
    }
   }
  },
  {
   "cell_type": "code",
   "execution_count": null,
   "outputs": [],
   "source": [],
   "metadata": {
    "collapsed": false,
    "pycharm": {
     "name": "#%%\n"
    }
   }
  }
 ],
 "metadata": {
  "kernelspec": {
   "display_name": "Python 3",
   "language": "python",
   "name": "python3"
  },
  "language_info": {
   "codemirror_mode": {
    "name": "ipython",
    "version": 2
   },
   "file_extension": ".py",
   "mimetype": "text/x-python",
   "name": "python",
   "nbconvert_exporter": "python",
   "pygments_lexer": "ipython2",
   "version": "2.7.6"
  }
 },
 "nbformat": 4,
 "nbformat_minor": 0
}