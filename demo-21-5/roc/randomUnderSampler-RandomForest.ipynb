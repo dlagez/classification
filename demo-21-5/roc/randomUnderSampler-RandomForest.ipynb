{
 "cells": [
  {
   "cell_type": "code",
   "execution_count": 1,
   "metadata": {
    "collapsed": true
   },
   "outputs": [],
   "source": [
    "from imblearn.under_sampling import RandomUnderSampler\n",
    "us = RandomUnderSampler(random_state=0)"
   ]
  },
  {
   "cell_type": "code",
   "execution_count": 2,
   "outputs": [],
   "source": [
    "# 进行随机下采样，并使用MLP分类\n",
    "import scipy\n",
    "import scipy.io as scio\n",
    "import numpy as np\n",
    "import os\n",
    "# 读取训练和测试数据\n",
    "data_root = '/data/file/classification_data/years/sum_2016/'\n",
    "train_sumX_2016_norm = scio.loadmat(os.path.join(data_root, 'train_sumX_2016_norm.mat'))['X']\n",
    "train_sumy_2016_label = scio.loadmat(os.path.join(data_root, 'train_sumy_2016_label.mat'))['y']\n",
    "\n",
    "test_sumX_2016_norm = scio.loadmat(os.path.join(data_root, 'test_sumX_2016_norm.mat'))['X']\n",
    "test_sumy_2016_label = scio.loadmat(os.path.join(data_root, 'test_sumy_2016_label.mat'))['y']\n"
   ],
   "metadata": {
    "collapsed": false,
    "pycharm": {
     "name": "#%%\n"
    }
   }
  },
  {
   "cell_type": "code",
   "execution_count": 3,
   "outputs": [],
   "source": [
    "X_re, y_re = us.fit_resample(train_sumX_2016_norm, train_sumy_2016_label)\n",
    "X_re\n",
    "y_re = y_re.reshape(-1, 1)\n"
   ],
   "metadata": {
    "collapsed": false,
    "pycharm": {
     "name": "#%%\n"
    }
   }
  },
  {
   "cell_type": "code",
   "execution_count": 4,
   "metadata": {},
   "outputs": [],
   "source": [
    "from sklearn.metrics import balanced_accuracy_score"
   ]
  },
  {
   "cell_type": "code",
   "execution_count": 5,
   "metadata": {},
   "outputs": [
    {
     "output_type": "stream",
     "name": "stderr",
     "text": [
      "/home/roczhang/anaconda3/envs/dataAna/lib/python3.6/site-packages/ipykernel_launcher.py:3: DataConversionWarning: A column-vector y was passed when a 1d array was expected. Please change the shape of y to (n_samples,), for example using ravel().\n  This is separate from the ipykernel package so we can avoid doing imports until\n"
     ]
    },
    {
     "output_type": "execute_result",
     "data": {
      "text/plain": [
       "RandomForestClassifier(max_depth=2, random_state=0)"
      ]
     },
     "metadata": {},
     "execution_count": 5
    }
   ],
   "source": [
    "from sklearn.ensemble import RandomForestClassifier\n",
    "clf = RandomForestClassifier(max_depth=2, random_state=0)\n",
    "clf.fit(X_re, y_re)"
   ]
  },
  {
   "cell_type": "code",
   "execution_count": 6,
   "metadata": {},
   "outputs": [],
   "source": [
    "y_pred =  clf.predict(test_sumX_2016_norm)"
   ]
  },
  {
   "cell_type": "code",
   "execution_count": 7,
   "metadata": {},
   "outputs": [
    {
     "output_type": "execute_result",
     "data": {
      "text/plain": [
       "0.6517857142857143"
      ]
     },
     "metadata": {},
     "execution_count": 7
    }
   ],
   "source": [
    "clf.score(test_sumX_2016_norm, test_sumy_2016_label)"
   ]
  },
  {
   "cell_type": "code",
   "execution_count": 8,
   "metadata": {},
   "outputs": [
    {
     "output_type": "execute_result",
     "data": {
      "text/plain": [
       "0.6671935370565507"
      ]
     },
     "metadata": {},
     "execution_count": 8
    }
   ],
   "source": [
    "balanced_accuracy_score(y_pred, test_sumy_2016_label)"
   ]
  },
  {
   "cell_type": "code",
   "execution_count": 9,
   "metadata": {},
   "outputs": [],
   "source": [
    "def get_roc(pos_prob,y_true):\n",
    "\n",
    "    pos = y_true[y_true==1]  # 145\n",
    "    neg = y_true[y_true==0]  # 855\n",
    "    # [::-1]逆序切片\n",
    "    threshold = np.sort(pos_prob)[::-1]  # 按预测为正的概率大小逆序排列\n",
    "    y = y_true[pos_prob.argsort()[::-1]]\n",
    "\n",
    "    tpr_all = [0] ; fpr_all = [0]\n",
    "    tpr = 0 ; fpr = 0\n",
    "    x_step = 1/float(len(neg))  # 0.0011695906432748538\n",
    "    y_step = 1/float(len(pos))  # 0.006896551724137931\n",
    "    y_sum = 0\n",
    "    for i in range(len(threshold)):  # 1000\n",
    "        if y[i] == 1:\n",
    "            tpr += y_step\n",
    "            tpr_all.append(tpr)\n",
    "            fpr_all.append(fpr)\n",
    "        else:\n",
    "            fpr += x_step\n",
    "            fpr_all.append(fpr)\n",
    "            tpr_all.append(tpr)\n",
    "            y_sum += tpr             # fpr加一个样本，y_sum累计。计算面积\n",
    "    return tpr_all,fpr_all,y_sum*x_step  # 获得总体TPR，FPR和相应的AUC"
   ]
  },
  {
   "cell_type": "code",
   "execution_count": 14,
   "metadata": {},
   "outputs": [],
   "source": [
    "pos_prob = clf.predict_proba(test_sumX_2016_norm)[:, 1]"
   ]
  },
  {
   "cell_type": "code",
   "execution_count": 15,
   "metadata": {},
   "outputs": [
    {
     "output_type": "execute_result",
     "data": {
      "text/plain": [
       "array([0.24829647, 0.27531862, 0.36242461, 0.23692475, 0.27355147,\n",
       "       0.19731686, 0.26471466, 0.13829496, 0.24919065, 0.47853042,\n",
       "       0.21235239, 0.16597227, 0.26831395, 0.37395543, 0.16011107,\n",
       "       0.26549703, 0.15983582, 0.31872272, 0.17997182, 0.26253639,\n",
       "       0.3599728 , 0.19964532, 0.57321332, 0.47059566, 0.22493694,\n",
       "       0.25608125, 0.15550751, 0.66243528, 0.20728334, 0.26519566,\n",
       "       0.15581715, 0.63977443, 0.30068959, 0.63664618, 0.15525145,\n",
       "       0.26244584, 0.15010885, 0.68497602, 0.63390333, 0.63016233,\n",
       "       0.30566938, 0.50123616, 0.36640599, 0.27991593, 0.27388524,\n",
       "       0.24329345, 0.19804258, 0.15516937, 0.16722626, 0.2621318 ,\n",
       "       0.81484824, 0.13829496, 0.781642  , 0.42266217, 0.20852894,\n",
       "       0.69167832, 0.70957023, 0.18115541, 0.63206224, 0.63880084,\n",
       "       0.35467383, 0.78601126, 0.48793516, 0.38200762, 0.74750963,\n",
       "       0.4534643 , 0.81708473, 0.42947329, 0.44050806, 0.8041525 ,\n",
       "       0.70357969, 0.50980786, 0.29275422, 0.40313985, 0.54311475,\n",
       "       0.50404352, 0.77443909, 0.39038895, 0.7223833 , 0.27894086,\n",
       "       0.81776873, 0.81314659, 0.52349474, 0.18882178, 0.72559949,\n",
       "       0.37532252, 0.26911325, 0.31341253, 0.42092181, 0.32806719,\n",
       "       0.16913367, 0.30696691, 0.48711593, 0.42302198, 0.7870237 ,\n",
       "       0.54827004, 0.70302147, 0.71367409, 0.51158374, 0.35923809,\n",
       "       0.67523101, 0.75166467, 0.73539857, 0.35406958, 0.40326301,\n",
       "       0.752612  , 0.65510838, 0.24765908, 0.62913067, 0.23022076,\n",
       "       0.13914755, 0.28205219])"
      ]
     },
     "metadata": {},
     "execution_count": 15
    }
   ],
   "source": [
    "pos_prob"
   ]
  },
  {
   "cell_type": "code",
   "execution_count": 16,
   "metadata": {},
   "outputs": [],
   "source": [
    "tpr, fpr, auc = get_roc(pos_prob, test_sumy_2016_label)"
   ]
  },
  {
   "cell_type": "code",
   "execution_count": 19,
   "metadata": {},
   "outputs": [
    {
     "output_type": "execute_result",
     "data": {
      "text/plain": [
       "0.7659438775510214"
      ]
     },
     "metadata": {},
     "execution_count": 19
    }
   ],
   "source": [
    "auc"
   ]
  },
  {
   "cell_type": "code",
   "execution_count": 18,
   "metadata": {},
   "outputs": [
    {
     "output_type": "display_data",
     "data": {
      "text/plain": "<Figure size 720x432 with 1 Axes>",
      "image/png": "[encoded data removed]"
     },
     "metadata": {
      "needs_background": "light"
     }
    }
   ],
   "source": [
    "import matplotlib.pylab as plt\n",
    "\n",
    "plt.figure(figsize=(10,6))\n",
    "plt.plot(fpr,tpr,label=\"RandomForestClassifier (AUC: {:.3f})\".format(auc),linewidth=2)\n",
    "plt.xlabel(\"False Positive Rate\",fontsize=16)\n",
    "plt.ylabel(\"True Positive Rate\",fontsize=16)\n",
    "plt.title(\"ROC Curve\",fontsize=16)\n",
    "plt.legend(loc=\"lower right\",fontsize=16)\n",
    "plt.show()"
   ]
  },
  {
   "cell_type": "code",
   "execution_count": null,
   "metadata": {},
   "outputs": [],
   "source": []
  }
 ],
 "metadata": {
  "kernelspec": {
   "name": "python3613jvsc74a57bd077665185498974e2aa551b3ed7ff3d92ad30b59c524e7ca2905901a81cbab4ea",
   "display_name": "Python 3.6.13 64-bit"
  },
  "language_info": {
   "codemirror_mode": {
    "name": "ipython",
    "version": 2
   },
   "file_extension": ".py",
   "mimetype": "text/x-python",
   "name": "python",
   "nbconvert_exporter": "python",
   "pygments_lexer": "ipython2",
   "version": "3.6.13"
  }
 },
 "nbformat": 4,
 "nbformat_minor": 0
}