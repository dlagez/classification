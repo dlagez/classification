{
 "cells": [
  {
   "cell_type": "code",
   "execution_count": 1,
   "metadata": {
    "collapsed": true
   },
   "outputs": [],
   "source": [
    "from imblearn.under_sampling import RandomUnderSampler\n",
    "us = RandomUnderSampler(random_state=0)"
   ]
  },
  {
   "cell_type": "code",
   "execution_count": 2,
   "outputs": [],
   "source": [
    "# 进行随机下采样，并使用MLP分类\n",
    "import scipy\n",
    "import scipy.io as scio\n",
    "import numpy as np\n",
    "import os\n",
    "# 读取训练和测试数据\n",
    "data_root = '/data/file/classification_data/years/sum_2016/'\n",
    "train_sumX_2016_norm = scio.loadmat(os.path.join(data_root, 'train_sumX_2016_norm.mat'))['X']\n",
    "train_sumy_2016_label = scio.loadmat(os.path.join(data_root, 'train_sumy_2016_label.mat'))['y']\n",
    "\n",
    "test_sumX_2016_norm = scio.loadmat(os.path.join(data_root, 'test_sumX_2016_norm.mat'))['X']\n",
    "test_sumy_2016_label = scio.loadmat(os.path.join(data_root, 'test_sumy_2016_label.mat'))['y']\n"
   ],
   "metadata": {
    "collapsed": false,
    "pycharm": {
     "name": "#%%\n"
    }
   }
  },
  {
   "cell_type": "code",
   "execution_count": 3,
   "outputs": [],
   "source": [
    "X_re, y_re = us.fit_resample(train_sumX_2016_norm, train_sumy_2016_label)\n",
    "X_re\n",
    "y_re = y_re.reshape(-1, 1)\n"
   ],
   "metadata": {
    "collapsed": false,
    "pycharm": {
     "name": "#%%\n"
    }
   }
  },
  {
   "cell_type": "code",
   "execution_count": 4,
   "metadata": {},
   "outputs": [],
   "source": [
    "from sklearn.metrics import balanced_accuracy_score"
   ]
  },
  {
   "cell_type": "code",
   "execution_count": 5,
   "metadata": {},
   "outputs": [
    {
     "output_type": "stream",
     "name": "stderr",
     "text": [
      "/home/roczhang/anaconda3/envs/dataAna/lib/python3.6/site-packages/sklearn/utils/validation.py:63: DataConversionWarning: A column-vector y was passed when a 1d array was expected. Please change the shape of y to (n_samples, ), for example using ravel().\n  return f(*args, **kwargs)\n"
     ]
    },
    {
     "output_type": "execute_result",
     "data": {
      "text/plain": [
       "GaussianNB()"
      ]
     },
     "metadata": {},
     "execution_count": 5
    }
   ],
   "source": [
    "from sklearn.naive_bayes import GaussianNB\n",
    "clf = GaussianNB()\n",
    "clf.fit(X_re, y_re)"
   ]
  },
  {
   "cell_type": "code",
   "execution_count": 6,
   "metadata": {},
   "outputs": [],
   "source": [
    "y_pred =  clf.predict(test_sumX_2016_norm)"
   ]
  },
  {
   "cell_type": "code",
   "execution_count": 7,
   "metadata": {},
   "outputs": [
    {
     "output_type": "execute_result",
     "data": {
      "text/plain": [
       "0.6160714285714286"
      ]
     },
     "metadata": {},
     "execution_count": 7
    }
   ],
   "source": [
    "clf.score(test_sumX_2016_norm, test_sumy_2016_label)"
   ]
  },
  {
   "cell_type": "code",
   "execution_count": 8,
   "metadata": {},
   "outputs": [
    {
     "output_type": "execute_result",
     "data": {
      "text/plain": [
       "0.7828282828282829"
      ]
     },
     "metadata": {},
     "execution_count": 8
    }
   ],
   "source": [
    "balanced_accuracy_score(y_pred, test_sumy_2016_label)"
   ]
  },
  {
   "cell_type": "code",
   "execution_count": 9,
   "metadata": {},
   "outputs": [],
   "source": [
    "def get_roc(pos_prob,y_true):\n",
    "\n",
    "    pos = y_true[y_true==1]  # 145\n",
    "    neg = y_true[y_true==0]  # 855\n",
    "    # [::-1]逆序切片\n",
    "    threshold = np.sort(pos_prob)[::-1]  # 按预测为正的概率大小逆序排列\n",
    "    y = y_true[pos_prob.argsort()[::-1]]\n",
    "\n",
    "    tpr_all = [0] ; fpr_all = [0]\n",
    "    tpr = 0 ; fpr = 0\n",
    "    x_step = 1/float(len(neg))  # 0.0011695906432748538\n",
    "    y_step = 1/float(len(pos))  # 0.006896551724137931\n",
    "    y_sum = 0\n",
    "    for i in range(len(threshold)):  # 1000\n",
    "        if y[i] == 1:\n",
    "            tpr += y_step\n",
    "            tpr_all.append(tpr)\n",
    "            fpr_all.append(fpr)\n",
    "        else:\n",
    "            fpr += x_step\n",
    "            fpr_all.append(fpr)\n",
    "            tpr_all.append(tpr)\n",
    "            y_sum += tpr             # fpr加一个样本，y_sum累计。计算面积\n",
    "    return tpr_all,fpr_all,y_sum*x_step  # 获得总体TPR，FPR和相应的AUC"
   ]
  },
  {
   "cell_type": "code",
   "execution_count": 10,
   "metadata": {},
   "outputs": [],
   "source": [
    "pos_prob = clf.predict_proba(test_sumX_2016_norm)[:, 1]"
   ]
  },
  {
   "cell_type": "code",
   "execution_count": 11,
   "metadata": {},
   "outputs": [
    {
     "output_type": "execute_result",
     "data": {
      "text/plain": [
       "array([5.12749129e-083, 4.50469208e-084, 1.03919992e-080, 2.30292418e-084,\n",
       "       1.11216786e-081, 5.88596819e-095, 1.76703030e-083, 2.36128151e-121,\n",
       "       5.09846455e-118, 1.91249710e-077, 1.17938050e-091, 1.08299754e-089,\n",
       "       3.58920469e-082, 7.40361459e-081, 1.77684865e-101, 1.25908624e-094,\n",
       "       2.34158760e-096, 8.57445770e-087, 9.27253437e-089, 1.33622948e-083,\n",
       "       1.58738050e-068, 8.14106521e-169, 3.10673632e-079, 8.00350731e-079,\n",
       "       9.47477698e-092, 1.24359471e-101, 1.33052168e-068, 4.21696568e-079,\n",
       "       1.53914234e-089, 6.55956078e-090, 5.88988982e-103, 3.82288726e-068,\n",
       "       3.29922538e-082, 2.57733017e-074, 2.52698030e-091, 1.76761699e-089,\n",
       "       2.22312655e-107, 5.72968014e-062, 9.67641694e-079, 2.15237250e-083,\n",
       "       3.85390207e-081, 1.17146605e-069, 1.74578137e-082, 2.59933107e-078,\n",
       "       4.71811383e-083, 1.45468544e-114, 3.88378568e-094, 6.00129503e-108,\n",
       "       5.96022681e-120, 1.60718858e-083, 2.54571289e-067, 8.77932655e-099,\n",
       "       2.54833401e-056, 2.33623780e-069, 3.47776496e-089, 6.27754715e-015,\n",
       "       1.00000000e+000, 1.57666789e-123, 1.00000000e+000, 5.79960291e-099,\n",
       "       1.00000000e+000, 5.06980535e-060, 1.23262342e-076, 1.26613877e-136,\n",
       "       1.00000000e+000, 1.00000000e+000, 2.51005256e-059, 1.60123198e-022,\n",
       "       1.00000000e+000, 1.95621092e-055, 2.04037866e-194, 5.52050284e-077,\n",
       "       1.99394197e-073, 1.84091175e-030, 8.21080717e-052, 2.18876009e-058,\n",
       "       1.00000000e+000, 1.13840335e-067, 7.91040026e-072, 0.00000000e+000,\n",
       "       1.74608678e-059, 2.32087198e-048, 0.00000000e+000, 5.81923965e-098,\n",
       "       4.01250222e-060, 8.55487438e-049, 2.88431224e-073, 3.26454122e-039,\n",
       "       3.06029380e-068, 1.55047494e-070, 4.43727544e-295, 7.14468885e-087,\n",
       "       1.57463922e-007, 1.00000000e+000, 1.87933602e-071, 1.00000000e+000,\n",
       "       1.41222249e-062, 1.14703340e-064, 1.18865979e-052, 4.22958007e-019,\n",
       "       1.00000000e+000, 1.00000000e+000, 5.42068038e-022, 1.00000000e+000,\n",
       "       9.76195718e-062, 5.75264596e-067, 1.00000000e+000, 1.95770839e-084,\n",
       "       7.33143097e-065, 1.21799019e-106, 3.19959349e-097, 9.15317037e-090])"
      ]
     },
     "metadata": {},
     "execution_count": 11
    }
   ],
   "source": [
    "pos_prob"
   ]
  },
  {
   "cell_type": "code",
   "execution_count": 12,
   "metadata": {},
   "outputs": [],
   "source": [
    "tpr, fpr, auc = get_roc(pos_prob, test_sumy_2016_label)"
   ]
  },
  {
   "cell_type": "code",
   "execution_count": 13,
   "metadata": {},
   "outputs": [
    {
     "output_type": "execute_result",
     "data": {
      "text/plain": [
       "0.7681760204081641"
      ]
     },
     "metadata": {},
     "execution_count": 13
    }
   ],
   "source": [
    "auc"
   ]
  },
  {
   "cell_type": "code",
   "execution_count": 15,
   "metadata": {},
   "outputs": [
    {
     "output_type": "display_data",
     "data": {
      "text/plain": "<Figure size 720x432 with 1 Axes>",
      "image/png": "[encoded data removed]"
     },
     "metadata": {
      "needs_background": "light"
     }
    }
   ],
   "source": [
    "import matplotlib.pylab as plt\n",
    "\n",
    "plt.figure(figsize=(10,6))\n",
    "plt.plot(fpr,tpr,label=\"RandomForestClassifier (AUC: {:.3f})\".format(auc),linewidth=2)\n",
    "plt.xlabel(\"False Positive Rate\",fontsize=16)\n",
    "plt.ylabel(\"True Positive Rate\",fontsize=16)\n",
    "plt.title(\"ROC Curve\",fontsize=16)\n",
    "plt.legend(loc=\"lower right\",fontsize=16)\n",
    "plt.show()"
   ]
  },
  {
   "cell_type": "code",
   "execution_count": null,
   "metadata": {},
   "outputs": [],
   "source": []
  }
 ],
 "metadata": {
  "kernelspec": {
   "name": "python3613jvsc74a57bd077665185498974e2aa551b3ed7ff3d92ad30b59c524e7ca2905901a81cbab4ea",
   "display_name": "Python 3.6.13 64-bit"
  },
  "language_info": {
   "codemirror_mode": {
    "name": "ipython",
    "version": 2
   },
   "file_extension": ".py",
   "mimetype": "text/x-python",
   "name": "python",
   "nbconvert_exporter": "python",
   "pygments_lexer": "ipython2",
   "version": "3.6.13"
  }
 },
 "nbformat": 4,
 "nbformat_minor": 0
}