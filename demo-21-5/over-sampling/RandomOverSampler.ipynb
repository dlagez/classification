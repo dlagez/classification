{
 "cells": [
  {
   "cell_type": "code",
   "execution_count": 67,
   "metadata": {
    "collapsed": true
   },
   "outputs": [],
   "source": [
    "# 分类器的导入和定义\n",
    "from imblearn.over_sampling import RandomOverSampler\n",
    "ros = RandomOverSampler(random_state=0)"
   ]
  },
  {
   "cell_type": "code",
   "execution_count": 68,
   "outputs": [],
   "source": [
    "# 数据的导入\n",
    "import scipy\n",
    "import scipy.io as scio\n",
    "import numpy as np\n",
    "import os\n",
    "data_root = '/data/file/classification_data/sum/'\n",
    "sumX_2016 = scio.loadmat(os.path.join(data_root, 'sumX_2016.mat'))['sumX_2016']\n",
    "sumy_2016 = scio.loadmat(os.path.join(data_root, 'sumy_2016.mat'))['sumy_2016']\n",
    "sumX_2016\n",
    "sumy_2016\n",
    "\n"
   ],
   "metadata": {
    "collapsed": false,
    "pycharm": {
     "name": "#%%\n"
    }
   }
  },
  {
   "cell_type": "code",
   "execution_count": 70,
   "outputs": [],
   "source": [
    "# 读取测试数据\n",
    "import scipy.io as scio\n",
    "import scipy\n",
    "test_root = '/data/file/classification_data/SVM数据/T32/'\n",
    "test_data = scio.loadmat(os.path.join(test_root, 'testdata.mat'))[\"x_test\"]\n",
    "test_label = scio.loadmat(os.path.join(test_root, 'testlabel.mat'))[\"testlabel\"].ravel()"
   ],
   "metadata": {
    "collapsed": false,
    "pycharm": {
     "name": "#%%\n"
    }
   }
  },
  {
   "cell_type": "code",
   "execution_count": 71,
   "outputs": [
    {
     "data": {
      "text/plain": "array([0., 0., 0., ..., 1., 1., 1.])"
     },
     "execution_count": 71,
     "metadata": {},
     "output_type": "execute_result"
    }
   ],
   "source": [
    "sumX_2016_re, sumy_2016_re = ros.fit_resample(sumX_2016, sumy_2016)\n",
    "sumX_2016_re\n",
    "sumy_2016_re"
   ],
   "metadata": {
    "collapsed": false,
    "pycharm": {
     "name": "#%%\n"
    }
   }
  },
  {
   "cell_type": "code",
   "execution_count": 72,
   "outputs": [],
   "source": [
    "scipy.io.savemat(\"/data/file/classification_data/sum/sumX_2016_re.mat\", {'sumX_2016_re': sumX_2016_re})\n",
    "scipy.io.savemat(\"/data/file/classification_data/sum/sumy_2016_re.mat\", {'sumy_2016_re': sumy_2016_re})"
   ],
   "metadata": {
    "collapsed": false,
    "pycharm": {
     "name": "#%%\n"
    }
   }
  },
  {
   "cell_type": "code",
   "execution_count": null,
   "outputs": [],
   "source": [],
   "metadata": {
    "collapsed": false,
    "pycharm": {
     "name": "#%%\n"
    }
   }
  }
 ],
 "metadata": {
  "kernelspec": {
   "display_name": "Python 3",
   "language": "python",
   "name": "python3"
  },
  "language_info": {
   "codemirror_mode": {
    "name": "ipython",
    "version": 2
   },
   "file_extension": ".py",
   "mimetype": "text/x-python",
   "name": "python",
   "nbconvert_exporter": "python",
   "pygments_lexer": "ipython2",
   "version": "2.7.6"
  }
 },
 "nbformat": 4,
 "nbformat_minor": 0
}