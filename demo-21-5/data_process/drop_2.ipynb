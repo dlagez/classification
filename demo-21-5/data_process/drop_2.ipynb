{
 "cells": [
  {
   "cell_type": "code",
   "execution_count": 1,
   "metadata": {
    "collapsed": true
   },
   "outputs": [],
   "source": [
    "import os\n",
    "import pandas as pd\n",
    "import scipy\n",
    "import scipy.io as scio"
   ]
  },
  {
   "cell_type": "code",
   "execution_count": 18,
   "outputs": [],
   "source": [
    "# 去除标签中值为2的数\n",
    "for year in range(2012, 2018):\n",
    "    data_root = '/data/file/classification_data/years/'\n",
    "    X = scio.loadmat(os.path.join(data_root+str(year), 'X.mat'))['X']\n",
    "    y = scio.loadmat(os.path.join(data_root+str(year), 'y.mat'))['y']\n",
    "    y = y.reshape(-1)\n",
    "    y_drop2 = y[~(y == 2)]\n",
    "    X_drop2 = X[~(y == 2)]\n",
    "    scipy.io.savemat(os.path.join(data_root+str(year), 'y_drop2.mat'), {'y': y_drop2})\n",
    "    scipy.io.savemat(os.path.join(data_root+str(year), 'X_drop2.mat'), {'X': X_drop2})\n"
   ],
   "metadata": {
    "collapsed": false,
    "pycharm": {
     "name": "#%%\n"
    }
   }
  },
  {
   "cell_type": "code",
   "execution_count": null,
   "outputs": [],
   "source": [
    "scipy.io.savemat(os.path.join(data_root+str(year), 'y.mat'), {'y': ''})"
   ],
   "metadata": {
    "collapsed": false,
    "pycharm": {
     "name": "#%%\n"
    }
   }
  },
  {
   "cell_type": "code",
   "execution_count": 9,
   "outputs": [
    {
     "data": {
      "text/plain": "array([False, False, False, ..., False, False, False])"
     },
     "execution_count": 9,
     "metadata": {},
     "output_type": "execute_result"
    }
   ],
   "source": [
    "y == 2"
   ],
   "metadata": {
    "collapsed": false,
    "pycharm": {
     "name": "#%%\n"
    }
   }
  },
  {
   "cell_type": "code",
   "execution_count": 14,
   "outputs": [
    {
     "data": {
      "text/plain": "array([0, 0, 0, ..., 0, 0, 0])"
     },
     "execution_count": 14,
     "metadata": {},
     "output_type": "execute_result"
    }
   ],
   "source": [
    "year = 2013\n",
    "data_root = '/data/file/classification_data/years/'\n",
    "X = scio.loadmat(os.path.join(data_root+str(year), 'X.mat'))['X']\n",
    "y = scio.loadmat(os.path.join(data_root+str(year), 'y.mat'))['y']\n",
    "y = y.reshape(-1)\n",
    "y_drop2 = y[~(y == 2)]\n",
    "X\n",
    "y\n",
    "X_drop2 = X[~(y == 2)]\n",
    "X_drop2\n",
    "y_drop2"
   ],
   "metadata": {
    "collapsed": false,
    "pycharm": {
     "name": "#%%\n"
    }
   }
  },
  {
   "cell_type": "code",
   "execution_count": 15,
   "outputs": [],
   "source": [
    "filter = y == 2\n"
   ],
   "metadata": {
    "collapsed": false,
    "pycharm": {
     "name": "#%%\n"
    }
   }
  },
  {
   "cell_type": "code",
   "execution_count": null,
   "outputs": [],
   "source": [],
   "metadata": {
    "collapsed": false,
    "pycharm": {
     "name": "#%%\n"
    }
   }
  }
 ],
 "metadata": {
  "kernelspec": {
   "display_name": "Python 3",
   "language": "python",
   "name": "python3"
  },
  "language_info": {
   "codemirror_mode": {
    "name": "ipython",
    "version": 2
   },
   "file_extension": ".py",
   "mimetype": "text/x-python",
   "name": "python",
   "nbconvert_exporter": "python",
   "pygments_lexer": "ipython2",
   "version": "2.7.6"
  }
 },
 "nbformat": 4,
 "nbformat_minor": 0
}