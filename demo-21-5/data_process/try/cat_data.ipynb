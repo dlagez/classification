{
 "cells": [
  {
   "cell_type": "code",
   "execution_count": 1,
   "metadata": {
    "collapsed": true
   },
   "outputs": [],
   "source": [
    "\n",
    "import scipy\n",
    "import scipy.io as scio\n",
    "import numpy as np\n",
    "import os"
   ]
  },
  {
   "cell_type": "code",
   "execution_count": 3,
   "outputs": [
    {
     "data": {
      "text/plain": "array([[0., 0., 0., ..., 0., 0., 0.]])"
     },
     "execution_count": 3,
     "metadata": {},
     "output_type": "execute_result"
    }
   ],
   "source": [
    "train_data2012 = scio.loadmat(\"/data/file/classification_data/data_ADASYN/2012/X.mat\")['X']\n",
    "train_label2012 = scio.loadmat(\"/data/file/classification_data/data_ADASYN/2012/y.mat\")['y']\n",
    "train_data2012\n",
    "train_label2012"
   ],
   "metadata": {
    "collapsed": false,
    "pycharm": {
     "name": "#%%\n"
    }
   }
  },
  {
   "cell_type": "code",
   "execution_count": 5,
   "outputs": [
    {
     "data": {
      "text/plain": "array([[0.],\n       [0.],\n       [0.],\n       ...,\n       [0.],\n       [0.],\n       [0.]])"
     },
     "execution_count": 5,
     "metadata": {},
     "output_type": "execute_result"
    }
   ],
   "source": [
    "data_root = '/data/file/classification_data/sum'\n",
    "sumX_2016 = scio.loadmat(os.path.join(data_root, 'sumX_2016.mat'))['sumX_2016']\n",
    "sumy_2016 = scio.loadmat(os.path.join(data_root, 'sumy_2016.mat'))['sumy_2016'].reshape(-1, 1)\n",
    "sumX_2016\n",
    "sumy_2016"
   ],
   "metadata": {
    "collapsed": false,
    "pycharm": {
     "name": "#%%\n"
    }
   }
  },
  {
   "cell_type": "code",
   "execution_count": 8,
   "outputs": [
    {
     "name": "stdout",
     "output_type": "stream",
     "text": [
      "[[ 2.61716000e-01  1.76241000e-01  1.94850000e-02 ...  2.06000000e+02\n",
      "   5.39455000e-01  5.39455000e-01]\n",
      " [ 1.19902000e-01  3.12320000e-02  4.02220000e-02 ...  2.29000000e+02\n",
      "  -7.14120000e-02 -6.95360000e-02]\n",
      " [ 8.03223000e-01  4.97520000e-02  4.23154000e-01 ...  2.42000000e+02\n",
      "   2.95000000e-03  3.16500000e-03]\n",
      " ...\n",
      " [ 8.34997000e-01  7.31525000e-01  1.69830000e-02 ...  1.54000000e+02\n",
      "   4.86557100e-03  5.46967564e-03]\n",
      " [ 6.54374000e-01  1.76659000e-01  1.60676000e-01 ...  8.70000000e+01\n",
      "   4.86557100e-03  5.46967564e-03]\n",
      " [ 6.49724000e-01  2.44030000e-01  2.16358000e-01 ...  9.70000000e+01\n",
      "   4.86557100e-03  5.46967564e-03]]\n"
     ]
    }
   ],
   "source": [
    "print(train_data2012)"
   ],
   "metadata": {
    "collapsed": false,
    "pycharm": {
     "name": "#%%\n"
    }
   }
  },
  {
   "cell_type": "code",
   "execution_count": null,
   "outputs": [],
   "source": [],
   "metadata": {
    "collapsed": false,
    "pycharm": {
     "name": "#%%\n"
    }
   }
  }
 ],
 "metadata": {
  "kernelspec": {
   "display_name": "Python 3",
   "language": "python",
   "name": "python3"
  },
  "language_info": {
   "codemirror_mode": {
    "name": "ipython",
    "version": 2
   },
   "file_extension": ".py",
   "mimetype": "text/x-python",
   "name": "python",
   "nbconvert_exporter": "python",
   "pygments_lexer": "ipython2",
   "version": "2.7.6"
  }
 },
 "nbformat": 4,
 "nbformat_minor": 0
}