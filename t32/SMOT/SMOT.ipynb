{
 "cells": [
  {
   "cell_type": "code",
   "execution_count": 13,
   "metadata": {
    "collapsed": true
   },
   "outputs": [],
   "source": [
    "from imblearn.over_sampling import SMOTE \n",
    "sm = SMOTE(random_state=42)"
   ]
  },
  {
   "cell_type": "code",
   "execution_count": 14,
   "outputs": [],
   "source": [
    "# 进行随机下采样，并使用MLP分类\n",
    "import scipy\n",
    "import scipy.io as scio\n",
    "import numpy as np\n",
    "import os\n",
    "# 读取训练和测试数据\n",
    "data_root = '/data/file/classification_data/years/sum_2016'\n",
    "trainX_norm = scio.loadmat(os.path.join(data_root, 'train_sumX_2016_norm.mat'))['X']\n",
    "\n",
    "\n",
    "trainlabel = scio.loadmat(os.path.join(data_root, 'train_sumy_2016_label.mat'))['y']\n",
    "\n"
   ],
   "metadata": {
    "collapsed": false,
    "pycharm": {
     "name": "#%%\n"
    }
   }
  },
  {
   "cell_type": "code",
   "execution_count": 15,
   "outputs": [],
   "source": [
    "X_re, y_re = sm.fit_resample(trainX_norm, trainlabel)\n",
    "X_re\n",
    "y_re = y_re.reshape(-1, 1)\n"
   ],
   "metadata": {
    "collapsed": false,
    "pycharm": {
     "name": "#%%\n"
    }
   }
  },
  {
   "cell_type": "code",
   "execution_count": 16,
   "metadata": {},
   "outputs": [
    {
     "output_type": "execute_result",
     "data": {
      "text/plain": [
       "(14244, 448)"
      ]
     },
     "metadata": {},
     "execution_count": 16
    }
   ],
   "source": [
    "X_re.shape"
   ]
  },
  {
   "cell_type": "code",
   "execution_count": 18,
   "metadata": {},
   "outputs": [
    {
     "output_type": "execute_result",
     "data": {
      "text/plain": [
       "(7231, 448)"
      ]
     },
     "metadata": {},
     "execution_count": 18
    }
   ],
   "source": [
    "trainX_norm.shape"
   ]
  },
  {
   "cell_type": "code",
   "execution_count": 19,
   "metadata": {},
   "outputs": [],
   "source": [
    "scipy.io.savemat(os.path.join(data_root, 'SMOT/trainX.mat'), {'X': X_re})\n",
    "scipy.io.savemat(os.path.join(data_root, 'SMOT/trainy.mat'), {'X': y_re})\n",
    "\n"
   ]
  },
  {
   "cell_type": "code",
   "execution_count": null,
   "metadata": {},
   "outputs": [],
   "source": []
  }
 ],
 "metadata": {
  "kernelspec": {
   "name": "python3613jvsc74a57bd077665185498974e2aa551b3ed7ff3d92ad30b59c524e7ca2905901a81cbab4ea",
   "display_name": "Python 3.6.13 64-bit ('dataAna': conda)"
  },
  "language_info": {
   "codemirror_mode": {
    "name": "ipython",
    "version": 2
   },
   "file_extension": ".py",
   "mimetype": "text/x-python",
   "name": "python",
   "nbconvert_exporter": "python",
   "pygments_lexer": "ipython2",
   "version": "3.6.13"
  }
 },
 "nbformat": 4,
 "nbformat_minor": 0
}