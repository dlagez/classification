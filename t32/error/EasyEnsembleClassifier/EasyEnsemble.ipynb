{
 "metadata": {
  "language_info": {
   "codemirror_mode": {
    "name": "ipython",
    "version": 3
   },
   "file_extension": ".py",
   "mimetype": "text/x-python",
   "name": "python",
   "nbconvert_exporter": "python",
   "pygments_lexer": "ipython3",
   "version": "3.6.13"
  },
  "orig_nbformat": 2,
  "kernelspec": {
   "name": "python3613jvsc74a57bd077665185498974e2aa551b3ed7ff3d92ad30b59c524e7ca2905901a81cbab4ea",
   "display_name": "Python 3.6.13 64-bit"
  }
 },
 "nbformat": 4,
 "nbformat_minor": 2,
 "cells": [
  {
   "cell_type": "code",
   "execution_count": 7,
   "metadata": {},
   "outputs": [],
   "source": [
    "from imblearn.ensemble import EasyEnsembleClassifier \n",
    "from sklearn.metrics import balanced_accuracy_score"
   ]
  },
  {
   "cell_type": "code",
   "execution_count": 2,
   "metadata": {},
   "outputs": [],
   "source": [
    "# 进行随机下采样，并使用MLP分类\n",
    "import scipy\n",
    "import scipy.io as scio\n",
    "import numpy as np\n",
    "import os\n",
    "# 读取训练和测试数据\n",
    "data_root = '/data/file/classification_data/SVM数据/T32/'\n",
    "trainX_norm = scio.loadmat(os.path.join(data_root, 'trainX_norm.mat'))['X']\n",
    "testX_norm = scio.loadmat(os.path.join(data_root, 'testX_norm.mat'))['X']\n",
    "\n",
    "trainlabel = scio.loadmat(os.path.join(data_root, 'trainlabel.mat'))['trainlabel']\n",
    "testlabel = scio.loadmat(os.path.join(data_root, 'testlabel.mat'))['testlabel']\n"
   ]
  },
  {
   "cell_type": "code",
   "execution_count": 3,
   "metadata": {},
   "outputs": [
    {
     "output_type": "stream",
     "name": "stderr",
     "text": [
      "/home/roczhang/anaconda3/envs/dataAna/lib/python3.6/site-packages/sklearn/utils/validation.py:63: DataConversionWarning: A column-vector y was passed when a 1d array was expected. Please change the shape of y to (n_samples, ), for example using ravel().\n  return f(*args, **kwargs)\n"
     ]
    },
    {
     "output_type": "execute_result",
     "data": {
      "text/plain": [
       "EasyEnsembleClassifier(random_state=42)"
      ]
     },
     "metadata": {},
     "execution_count": 3
    }
   ],
   "source": [
    "\n",
    "eec = EasyEnsembleClassifier(random_state=42)\n",
    "eec.fit(trainX_norm, trainlabel)"
   ]
  },
  {
   "cell_type": "code",
   "execution_count": 5,
   "metadata": {},
   "outputs": [],
   "source": [
    "y_pred = eec.predict(testX_norm)"
   ]
  },
  {
   "cell_type": "code",
   "execution_count": 6,
   "metadata": {},
   "outputs": [
    {
     "output_type": "execute_result",
     "data": {
      "text/plain": [
       "0.6517857142857143"
      ]
     },
     "metadata": {},
     "execution_count": 6
    }
   ],
   "source": [
    "eec.score(testX_norm, testlabel)"
   ]
  },
  {
   "cell_type": "code",
   "execution_count": 8,
   "metadata": {},
   "outputs": [
    {
     "output_type": "execute_result",
     "data": {
      "text/plain": [
       "0.7188505747126437"
      ]
     },
     "metadata": {},
     "execution_count": 8
    }
   ],
   "source": [
    "balanced_accuracy_score(y_pred, testlabel)"
   ]
  },
  {
   "cell_type": "code",
   "execution_count": 10,
   "metadata": {},
   "outputs": [
    {
     "output_type": "execute_result",
     "data": {
      "text/plain": [
       "0.7021683673469388"
      ]
     },
     "metadata": {},
     "execution_count": 10
    }
   ],
   "source": [
    "from sklearn.metrics import roc_auc_score\n",
    "pos_prob = eec.predict_proba(testX_norm)[:, 1]\n",
    "roc_auc_score(testlabel, pos_prob)"
   ]
  },
  {
   "cell_type": "code",
   "execution_count": 11,
   "metadata": {},
   "outputs": [
    {
     "output_type": "execute_result",
     "data": {
      "text/plain": [
       "0.6228956228956231"
      ]
     },
     "metadata": {},
     "execution_count": 11
    }
   ],
   "source": [
    "from sklearn.metrics import f1_score\n",
    "f1_score(testlabel, y_pred, average='macro')"
   ]
  },
  {
   "cell_type": "code",
   "execution_count": 12,
   "metadata": {},
   "outputs": [
    {
     "output_type": "execute_result",
     "data": {
      "text/plain": [
       "0.36451826184485026"
      ]
     },
     "metadata": {},
     "execution_count": 12
    }
   ],
   "source": [
    "from sklearn.metrics import matthews_corrcoef\n",
    "matthews_corrcoef(testlabel, y_pred)"
   ]
  },
  {
   "cell_type": "code",
   "execution_count": null,
   "metadata": {},
   "outputs": [],
   "source": []
  }
 ]
}