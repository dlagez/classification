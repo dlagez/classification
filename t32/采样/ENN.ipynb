{
 "cells": [
  {
   "cell_type": "code",
   "execution_count": 7,
   "metadata": {
    "collapsed": true
   },
   "outputs": [],
   "source": [
    "from imblearn.under_sampling import EditedNearestNeighbours\n",
    "enn = EditedNearestNeighbours()"
   ]
  },
  {
   "cell_type": "code",
   "execution_count": 8,
   "outputs": [],
   "source": [
    "# 进行随机下采样，并使用MLP分类\n",
    "import scipy\n",
    "import scipy.io as scio\n",
    "import numpy as np\n",
    "import os\n",
    "# 读取训练和测试数据\n",
    "data_root = '/data/file/classification_data/tmp/years/sum_2016'\n",
    "trainX_norm = scio.loadmat(os.path.join(data_root, 'train_sumX_2016_norm.mat'))['X']\n",
    "testX_norm = scio.loadmat(os.path.join(data_root, 'test_sumX_2016_norm.mat'))['X']\n",
    "\n",
    "trainlabel = scio.loadmat(os.path.join(data_root, 'train_sumy_2016_label.mat'))['y']\n",
    "testlabel = scio.loadmat(os.path.join(data_root, 'test_sumy_2016_label.mat'))['y']\n",
    "\n"
   ],
   "metadata": {
    "collapsed": false,
    "pycharm": {
     "name": "#%%\n"
    }
   }
  },
  {
   "cell_type": "code",
   "execution_count": 9,
   "outputs": [],
   "source": [
    "X_re, y_re = enn.fit_resample(trainX_norm, trainlabel)\n",
    "X_re\n",
    "y_re = y_re.reshape(-1, 1)\n"
   ],
   "metadata": {
    "collapsed": false,
    "pycharm": {
     "name": "#%%\n"
    }
   }
  },
  {
   "cell_type": "code",
   "execution_count": 10,
   "metadata": {},
   "outputs": [
    {
     "output_type": "stream",
     "name": "stdout",
     "text": [
      "0.015522643121617772\n(7022, 1)\n"
     ]
    }
   ],
   "source": [
    "# 从文档中，NU也是支撑载体分数的下限。 当我在具有20％正示例的培训集时出现这个问题时，\n",
    "# 我必须从0.5到0.2的较低，或者将培训重叠设定为50％的正例。 提升nu不起作用\n",
    "print((y_re == 1).sum() / len(y_re))  # 只有百分之一 \n",
    "print(y_re.shape)"
   ]
  },
  {
   "cell_type": "code",
   "execution_count": 11,
   "metadata": {},
   "outputs": [],
   "source": [
    "\n",
    "# X_re = X_re[:5000]\n",
    "# y_re = y_re[:5000]"
   ]
  },
  {
   "cell_type": "code",
   "execution_count": 12,
   "metadata": {},
   "outputs": [
    {
     "output_type": "execute_result",
     "data": {
      "text/plain": [
       "((7022, 448), (7022, 1))"
      ]
     },
     "metadata": {},
     "execution_count": 12
    }
   ],
   "source": [
    "X_re.shape, y_re.shape"
   ]
  },
  {
   "cell_type": "code",
   "execution_count": 13,
   "metadata": {},
   "outputs": [
    {
     "output_type": "execute_result",
     "data": {
      "text/plain": [
       "(7231, 448)"
      ]
     },
     "metadata": {},
     "execution_count": 13
    }
   ],
   "source": [
    "trainX_norm.shape"
   ]
  },
  {
   "cell_type": "code",
   "execution_count": 14,
   "metadata": {},
   "outputs": [],
   "source": [
    "# scipy.io.savemat(os.path.join(data_root, 'SMOT/trainX.mat'), {'X': X_re})\n",
    "# scipy.io.savemat(os.path.join(data_root, 'SMOT/trainy.mat'), {'X': y_re})\n",
    "\n"
   ]
  },
  {
   "cell_type": "code",
   "execution_count": 21,
   "metadata": {},
   "outputs": [
    {
     "output_type": "stream",
     "name": "stderr",
     "text": [
      "/home/roczhang/anaconda3/envs/dataAna/lib/python3.6/site-packages/sklearn/utils/validation.py:63: DataConversionWarning: A column-vector y was passed when a 1d array was expected. Please change the shape of y to (n_samples, ), for example using ravel().\n  return f(*args, **kwargs)\n"
     ]
    },
    {
     "output_type": "execute_result",
     "data": {
      "text/plain": [
       "Pipeline(steps=[('standardscaler', StandardScaler()),\n",
       "                ('nusvc', NuSVC(nu=0.01))])"
      ]
     },
     "metadata": {},
     "execution_count": 21
    }
   ],
   "source": [
    "from sklearn.pipeline import make_pipeline\n",
    "from sklearn.preprocessing import StandardScaler\n",
    "from sklearn.svm import NuSVC\n",
    "# nu 训练误差分数的上限和支撑载体分数的下限。 应该在间隔（0,1]。默认情况下0.5将被使用\n",
    "clf = make_pipeline(StandardScaler(), NuSVC(nu=0.01))\n",
    "# clf = NuSVC()\n",
    "clf.fit(X_re, y_re)"
   ]
  },
  {
   "cell_type": "code",
   "execution_count": 22,
   "metadata": {},
   "outputs": [
    {
     "output_type": "execute_result",
     "data": {
      "text/plain": [
       "0.5089285714285714"
      ]
     },
     "metadata": {},
     "execution_count": 22
    }
   ],
   "source": [
    "clf.score(testX_norm, testlabel)"
   ]
  },
  {
   "cell_type": "code",
   "execution_count": null,
   "metadata": {},
   "outputs": [],
   "source": []
  }
 ],
 "metadata": {
  "kernelspec": {
   "name": "python3613jvsc74a57bd077665185498974e2aa551b3ed7ff3d92ad30b59c524e7ca2905901a81cbab4ea",
   "display_name": "Python 3.6.13 64-bit ('dataAna': conda)"
  },
  "language_info": {
   "codemirror_mode": {
    "name": "ipython",
    "version": 2
   },
   "file_extension": ".py",
   "mimetype": "text/x-python",
   "name": "python",
   "nbconvert_exporter": "python",
   "pygments_lexer": "ipython2",
   "version": "3.6.13"
  }
 },
 "nbformat": 4,
 "nbformat_minor": 0
}