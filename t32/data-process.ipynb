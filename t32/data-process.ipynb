{
 "metadata": {
  "language_info": {
   "codemirror_mode": {
    "name": "ipython",
    "version": 3
   },
   "file_extension": ".py",
   "mimetype": "text/x-python",
   "name": "python",
   "nbconvert_exporter": "python",
   "pygments_lexer": "ipython3",
   "version": "3.6.13"
  },
  "orig_nbformat": 2,
  "kernelspec": {
   "name": "python3613jvsc74a57bd077665185498974e2aa551b3ed7ff3d92ad30b59c524e7ca2905901a81cbab4ea",
   "display_name": "Python 3.6.13 64-bit"
  }
 },
 "nbformat": 4,
 "nbformat_minor": 2,
 "cells": [
  {
   "cell_type": "code",
   "execution_count": 1,
   "metadata": {},
   "outputs": [],
   "source": [
    "# 将\n",
    "# /data/file/classification_data/SVM数据/T32 \n",
    "# 数据拼接归一化后在分开作为训练和测试数据"
   ]
  },
  {
   "cell_type": "code",
   "execution_count": 2,
   "metadata": {},
   "outputs": [],
   "source": [
    "import os\n",
    "import scipy\n",
    "import scipy.io as scio\n",
    "import numpy as np\n",
    "from sklearn import preprocessing"
   ]
  },
  {
   "cell_type": "code",
   "execution_count": 3,
   "metadata": {},
   "outputs": [],
   "source": [
    "data_root = '/data/file/classification_data/SVM数据/T32'"
   ]
  },
  {
   "cell_type": "code",
   "execution_count": 4,
   "metadata": {},
   "outputs": [],
   "source": [
    "X_train = scio.loadmat(os.path.join(data_root, 'traindata.mat'))['x_train']\n",
    "X_test = scio.loadmat(os.path.join(data_root, 'testdata.mat'))['x_test']"
   ]
  },
  {
   "cell_type": "code",
   "execution_count": 5,
   "metadata": {},
   "outputs": [
    {
     "output_type": "execute_result",
     "data": {
      "text/plain": [
       "(112, 448)"
      ]
     },
     "metadata": {},
     "execution_count": 5
    }
   ],
   "source": [
    "X_train.shape\n",
    "X_test.shape"
   ]
  },
  {
   "cell_type": "code",
   "execution_count": 6,
   "metadata": {},
   "outputs": [],
   "source": [
    "def X_norm(data_root):\n",
    "    # 处理数据部分\n",
    "    sumX = []\n",
    "    len = 0\n",
    "    X_train = scio.loadmat(os.path.join(data_root, 'traindata.mat'))['x_train']\n",
    "    X_test = scio.loadmat(os.path.join(data_root, 'testdata.mat'))['x_test']\n",
    "    len = X_train.shape[0]\n",
    "    sumX.append(X_train)\n",
    "    sumX.append(X_test)\n",
    "    data_X = np.concatenate(sumX, axis=0)  # 将列表中的数据按0轴合并\n",
    "    X_norm_all = preprocessing.normalize(data_X, norm='l2', axis=0)  # 训练和测试的样本统一化\n",
    "    trainX_norm = X_norm_all[:len]  # 取出训练数据\n",
    "    testX_norm = X_norm_all[len:]  # 取出测试数据\n",
    "\n",
    "    # 返回训练数据、训练标签、测试数据、测试标签\n",
    "    return trainX_norm, testX_norm"
   ]
  },
  {
   "cell_type": "code",
   "execution_count": 7,
   "metadata": {},
   "outputs": [],
   "source": [
    "trainX_norm, testX_norm = X_norm('/data/file/classification_data/SVM数据/T32')"
   ]
  },
  {
   "cell_type": "code",
   "execution_count": 8,
   "metadata": {},
   "outputs": [
    {
     "output_type": "execute_result",
     "data": {
      "text/plain": [
       "array([[0.05814968, 0.05247978, 0.05344438, ..., 0.05307344, 0.05276211,\n",
       "        0.0527861 ],\n",
       "       [0.06440631, 0.06931807, 0.06002381, ..., 0.05732418, 0.05428422,\n",
       "        0.05428953],\n",
       "       [0.06440631, 0.06931807, 0.06002381, ..., 0.05732418, 0.05428422,\n",
       "        0.05428953],\n",
       "       ...,\n",
       "       [0.06429806, 0.06141187, 0.06870799, ..., 0.05744563, 0.05352709,\n",
       "        0.05352823],\n",
       "       [0.05386211, 0.05274339, 0.06008839, ..., 0.05671693, 0.05395478,\n",
       "        0.05395611],\n",
       "       [0.06712717, 0.04827928, 0.04692756, ..., 0.05744563, 0.05361911,\n",
       "        0.0536306 ]])"
      ]
     },
     "metadata": {},
     "execution_count": 8
    }
   ],
   "source": [
    "trainX_norm"
   ]
  },
  {
   "cell_type": "code",
   "execution_count": 9,
   "metadata": {},
   "outputs": [
    {
     "output_type": "execute_result",
     "data": {
      "text/plain": [
       "(112, 448)"
      ]
     },
     "metadata": {},
     "execution_count": 9
    }
   ],
   "source": [
    "testX_norm.shape"
   ]
  },
  {
   "cell_type": "code",
   "execution_count": 10,
   "metadata": {},
   "outputs": [],
   "source": [
    "scipy.io.savemat(os.path.join(data_root, 'trainX_norm.mat'), {'X': trainX_norm})\n",
    "\n",
    "scipy.io.savemat(os.path.join(data_root, 'testX_norm.mat'), {'X': testX_norm})\n"
   ]
  },
  {
   "cell_type": "code",
   "execution_count": null,
   "metadata": {},
   "outputs": [],
   "source": []
  }
 ]
}