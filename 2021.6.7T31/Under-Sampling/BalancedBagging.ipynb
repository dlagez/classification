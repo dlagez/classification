{
 "metadata": {
  "language_info": {
   "codemirror_mode": {
    "name": "ipython",
    "version": 3
   },
   "file_extension": ".py",
   "mimetype": "text/x-python",
   "name": "python",
   "nbconvert_exporter": "python",
   "pygments_lexer": "ipython3",
   "version": "3.6.13"
  },
  "orig_nbformat": 2,
  "kernelspec": {
   "name": "python3613jvsc74a57bd077665185498974e2aa551b3ed7ff3d92ad30b59c524e7ca2905901a81cbab4ea",
   "display_name": "Python 3.6.13 64-bit ('dataAna': conda)"
  }
 },
 "nbformat": 4,
 "nbformat_minor": 2,
 "cells": [
  {
   "cell_type": "code",
   "execution_count": 1,
   "metadata": {},
   "outputs": [],
   "source": [
    "from imblearn.ensemble import BalancedBaggingClassifier \n",
    "bbc = BalancedBaggingClassifier(random_state=42)"
   ]
  },
  {
   "cell_type": "code",
   "execution_count": 2,
   "metadata": {},
   "outputs": [],
   "source": [
    "# 导入数据\n",
    "import scipy\n",
    "import scipy.io as scio\n",
    "import numpy as np\n",
    "import os\n",
    "data_root = '/data/file/classification_data/2021.6.7T31/norm/'\n",
    "train_sumX_2015_norm = scio.loadmat(os.path.join(data_root, 'train_sumX_2015_norm.mat'))['X']\n",
    "train_sumy_2015_label = scio.loadmat(os.path.join(data_root, 'train_sumy_2015_label.mat'))['y']\n",
    "\n",
    "test_sumX_2015_norm = scio.loadmat(os.path.join(data_root, 'test_sumX_2015_norm.mat'))['X']\n",
    "test_sumy_2015_label = scio.loadmat(os.path.join(data_root, 'test_sumy_2015_label.mat'))['y']"
   ]
  },
  {
   "cell_type": "code",
   "execution_count": 3,
   "metadata": {},
   "outputs": [
    {
     "output_type": "execute_result",
     "data": {
      "text/plain": [
       "((5414, 448), (5414, 1), (64, 448), (64, 1))"
      ]
     },
     "metadata": {},
     "execution_count": 3
    }
   ],
   "source": [
    "train_sumX_2015_norm.shape, train_sumy_2015_label.shape, test_sumX_2015_norm.shape, test_sumy_2015_label.shape"
   ]
  },
  {
   "cell_type": "code",
   "execution_count": 4,
   "metadata": {},
   "outputs": [
    {
     "output_type": "stream",
     "name": "stderr",
     "text": [
      "/home/roczhang/anaconda3/envs/dataAna/lib/python3.6/site-packages/sklearn/utils/validation.py:63: DataConversionWarning: A column-vector y was passed when a 1d array was expected. Please change the shape of y to (n_samples, ), for example using ravel().\n  return f(*args, **kwargs)\n"
     ]
    },
    {
     "output_type": "execute_result",
     "data": {
      "text/plain": [
       "BalancedBaggingClassifier(random_state=42)"
      ]
     },
     "metadata": {},
     "execution_count": 4
    }
   ],
   "source": [
    "# 进行采样\n",
    "bbc.fit(train_sumX_2015_norm, train_sumy_2015_label) "
   ]
  },
  {
   "cell_type": "code",
   "execution_count": 6,
   "metadata": {},
   "outputs": [
    {
     "output_type": "execute_result",
     "data": {
      "text/plain": [
       "0.671875"
      ]
     },
     "metadata": {},
     "execution_count": 6
    }
   ],
   "source": [
    "bbc.score(test_sumX_2015_norm, test_sumy_2015_label)"
   ]
  },
  {
   "cell_type": "code",
   "execution_count": null,
   "metadata": {},
   "outputs": [],
   "source": []
  }
 ]
}