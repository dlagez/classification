{
 "metadata": {
  "language_info": {
   "codemirror_mode": {
    "name": "ipython",
    "version": 3
   },
   "file_extension": ".py",
   "mimetype": "text/x-python",
   "name": "python",
   "nbconvert_exporter": "python",
   "pygments_lexer": "ipython3",
   "version": "3.6.13"
  },
  "orig_nbformat": 2,
  "kernelspec": {
   "name": "python3613jvsc74a57bd077665185498974e2aa551b3ed7ff3d92ad30b59c524e7ca2905901a81cbab4ea",
   "display_name": "Python 3.6.13 64-bit ('dataAna': conda)"
  }
 },
 "nbformat": 4,
 "nbformat_minor": 2,
 "cells": [
  {
   "cell_type": "code",
   "execution_count": 2,
   "metadata": {},
   "outputs": [],
   "source": [
    "import scipy\n",
    "import scipy.io as scio\n",
    "import numpy as np\n",
    "import os"
   ]
  },
  {
   "cell_type": "code",
   "execution_count": 8,
   "metadata": {},
   "outputs": [],
   "source": [
    "data_root = '/data/file/classification_data/2021.6.7T31/T31_norm/'\n",
    "train_norm = scio.loadmat(os.path.join(data_root, 'traindata.mat'))['x_train']\n",
    "train_label = scio.loadmat(os.path.join(data_root, 'trainlabel.mat'))['trainlabel']\n",
    "test_norm = scio.loadmat(os.path.join(data_root, 'testdata.mat'))['x_test']\n",
    "test_label = scio.loadmat(os.path.join(data_root, 'testlabel.mat'))['testlabel']"
   ]
  },
  {
   "cell_type": "code",
   "execution_count": 7,
   "metadata": {},
   "outputs": [
    {
     "output_type": "execute_result",
     "data": {
      "text/plain": [
       "{'__globals__': [],\n",
       " '__header__': b'MATLAB 5.0 MAT-file, Platform: PCWIN64, Created on: Mon May 24 15:59:49 2021',\n",
       " '__version__': '1.0',\n",
       " 'x_test': array([[1.48507269, 1.22888753, 1.41941641, ..., 1.96907216, 1.0205635 ,\n",
       "         1.0205639 ],\n",
       "        [1.65112248, 1.18903771, 1.63877394, ..., 1.99484536, 1.0273178 ,\n",
       "         1.02736016],\n",
       "        [1.60604711, 1.05872958, 1.40419721, ..., 1.99484536, 1.01623348,\n",
       "         1.01632764],\n",
       "        ...,\n",
       "        [1.8210274 , 1.30004826, 1.68493309, ..., 1.99484536, 1.03481933,\n",
       "         1.03481922],\n",
       "        [1.52546409, 1.11593616, 1.47355372, ..., 1.96391753, 1.0432051 ,\n",
       "         1.04320509],\n",
       "        [1.90115257, 1.02112189, 1.15080919, ..., 1.99484536, 1.03662368,\n",
       "         1.03682551]])}"
      ]
     },
     "metadata": {},
     "execution_count": 7
    }
   ],
   "source": [
    "test_norm"
   ]
  },
  {
   "cell_type": "code",
   "execution_count": 11,
   "metadata": {},
   "outputs": [],
   "source": [
    "from sklearn.svm import NuSVC\n",
    "from sklearn.pipeline import make_pipeline\n",
    "from sklearn.preprocessing import StandardScaler\n",
    "# clf = make_pipeline(StandardScaler(),LinearSVC(random_state=0, tol=1e-5))\n",
    "\n",
    "clf_nuSVC = NuSVC()"
   ]
  },
  {
   "cell_type": "code",
   "execution_count": 12,
   "metadata": {},
   "outputs": [
    {
     "output_type": "stream",
     "name": "stderr",
     "text": [
      "/home/roczhang/anaconda3/envs/dataAna/lib/python3.6/site-packages/sklearn/utils/validation.py:63: DataConversionWarning: A column-vector y was passed when a 1d array was expected. Please change the shape of y to (n_samples, ), for example using ravel().\n  return f(*args, **kwargs)\n"
     ]
    },
    {
     "output_type": "execute_result",
     "data": {
      "text/plain": [
       "NuSVC()"
      ]
     },
     "metadata": {},
     "execution_count": 12
    }
   ],
   "source": [
    "clf_nuSVC.fit(train_norm, train_label)"
   ]
  },
  {
   "cell_type": "code",
   "execution_count": 13,
   "metadata": {},
   "outputs": [
    {
     "output_type": "execute_result",
     "data": {
      "text/plain": [
       "0.84375"
      ]
     },
     "metadata": {},
     "execution_count": 13
    }
   ],
   "source": [
    "clf_nuSVC.score(test_norm, test_label)"
   ]
  },
  {
   "cell_type": "code",
   "execution_count": null,
   "metadata": {},
   "outputs": [],
   "source": []
  }
 ]
}