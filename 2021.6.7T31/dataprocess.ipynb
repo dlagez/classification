{
 "metadata": {
  "language_info": {
   "codemirror_mode": {
    "name": "ipython",
    "version": 3
   },
   "file_extension": ".py",
   "mimetype": "text/x-python",
   "name": "python",
   "nbconvert_exporter": "python",
   "pygments_lexer": "ipython3",
   "version": "3.6.13"
  },
  "orig_nbformat": 2,
  "kernelspec": {
   "name": "python3613jvsc74a57bd077665185498974e2aa551b3ed7ff3d92ad30b59c524e7ca2905901a81cbab4ea",
   "display_name": "Python 3.6.13 64-bit ('dataAna': conda)"
  }
 },
 "nbformat": 4,
 "nbformat_minor": 2,
 "cells": [
  {
   "cell_type": "code",
   "execution_count": 1,
   "metadata": {},
   "outputs": [],
   "source": [
    "import os\n",
    "import scipy\n",
    "import scipy.io as scio\n",
    "import numpy as np\n",
    "from sklearn import preprocessing"
   ]
  },
  {
   "source": [
    "这是t31的测试数据，训练数据为2012-2015年的数据\n",
    "实验：\n",
    "将2012-2015年的数据和t31的测试数据合并归一化。\n",
    "再进行采样分类。"
   ],
   "cell_type": "markdown",
   "metadata": {}
  },
  {
   "cell_type": "code",
   "execution_count": 12,
   "metadata": {},
   "outputs": [],
   "source": [
    "def get_sumX(data_root, begin, end):\n",
    "    sumX = []\n",
    "    sumy = []\n",
    "    length = 0\n",
    "    # 读取数据和标签\n",
    "    for year in range(begin, end):\n",
    "        # data_root = '/data/file/classification_data/years/'\n",
    "        # 增加每年的X\n",
    "        X = scio.loadmat(os.path.join(data_root+str(year), 'X_drop2.mat'))['X']\n",
    "        length = length + X.shape[0]\n",
    "        # 增加每年的y\n",
    "        sumX.append(X)\n",
    "        y = scio.loadmat(os.path.join(data_root+str(year), 'y_drop2.mat'))['y'].reshape(-1, 1)\n",
    "        # X_norm = preprocessing.normalize(X, norm='l2')\n",
    "        sumy.append(y)\n",
    "\n",
    "    # 处理数据部分\n",
    "    X_test = scio.loadmat(os.path.join(data_root+'T31/', 'testDataT31.mat'))['testData']  # 增加测试的X\n",
    "    sumX.append(X_test)  # 将测试数据放进数据列表\n",
    "    data_X = np.concatenate(sumX, axis=0)  # 将列表中的数据按0轴合并\n",
    "    X_norm_all = preprocessing.normalize(data_X, norm='l2', axis=0)  # 训练和测试的样本统一化\n",
    "    trainX_norm = X_norm_all[:length]  # 取出训练数据\n",
    "    testX_norm = X_norm_all[length:]  # 取出测试数据\n",
    "\n",
    "    # 处理标签部分\n",
    "    testy_norm = scio.loadmat(os.path.join(data_root + 'T31/', 'testLabelT31.mat'))['testLabel']  # 读取测试的y标签\n",
    "    # sumy.append(y_test)\n",
    "    trainy_norm = np.concatenate(sumy, axis=0)\n",
    "    # 返回训练数据、训练标签、测试数据、测试标签\n",
    "    return trainX_norm, trainy_norm, testX_norm, testy_norm\n",
    "\n"
   ]
  },
  {
   "cell_type": "code",
   "execution_count": 21,
   "metadata": {},
   "outputs": [],
   "source": [
    "train_sumX_2015_norm, train_sumy_2015_label, test_sumX_2015_norm, test_sumy_2015_label = get_sumX('/data/file/classification_data/tmp/years/', 2012, 2016)\n"
   ]
  },
  {
   "cell_type": "code",
   "execution_count": 22,
   "metadata": {},
   "outputs": [
    {
     "output_type": "stream",
     "name": "stdout",
     "text": [
      "(5414, 448)\n"
     ]
    }
   ],
   "source": [
    "print(train_sumX_2016_norm.shape)"
   ]
  },
  {
   "cell_type": "code",
   "execution_count": 23,
   "metadata": {},
   "outputs": [],
   "source": [
    "data_root = '/data/file/classification_data/2021.6.7T31/norm/'\n",
    "# scipy.io.savemat(os.path.join(data_root, 'X_norm_2016.mat'), {'X': sumX_2016})"
   ]
  },
  {
   "cell_type": "code",
   "execution_count": 24,
   "metadata": {},
   "outputs": [],
   "source": [
    "\n",
    "# 存储归一化的数据\n",
    "scipy.io.savemat(os.path.join(data_root, 'train_sumX_2015_norm.mat'), {'X': train_sumX_2015_norm})\n",
    "scipy.io.savemat(os.path.join(data_root, 'train_sumy_2015_label.mat'), {'y': train_sumy_2015_label})\n",
    "scipy.io.savemat(os.path.join(data_root, 'test_sumX_2015_norm.mat'), {'X': test_sumX_2015_norm})\n",
    "scipy.io.savemat(os.path.join(data_root, 'test_sumy_2015_label.mat'), {'y': test_sumy_2015_label})"
   ]
  },
  {
   "cell_type": "code",
   "execution_count": null,
   "metadata": {},
   "outputs": [],
   "source": []
  }
 ]
}