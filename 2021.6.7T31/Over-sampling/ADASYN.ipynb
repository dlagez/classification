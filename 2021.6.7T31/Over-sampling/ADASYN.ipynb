{
 "metadata": {
  "language_info": {
   "codemirror_mode": {
    "name": "ipython",
    "version": 3
   },
   "file_extension": ".py",
   "mimetype": "text/x-python",
   "name": "python",
   "nbconvert_exporter": "python",
   "pygments_lexer": "ipython3",
   "version": "3.6.13"
  },
  "orig_nbformat": 2,
  "kernelspec": {
   "name": "python3613jvsc74a57bd077665185498974e2aa551b3ed7ff3d92ad30b59c524e7ca2905901a81cbab4ea",
   "display_name": "Python 3.6.13 64-bit ('dataAna': conda)"
  }
 },
 "nbformat": 4,
 "nbformat_minor": 2,
 "cells": [
  {
   "cell_type": "code",
   "execution_count": 1,
   "metadata": {},
   "outputs": [],
   "source": [
    "from imblearn.over_sampling import ADASYN \n",
    "ada = ADASYN(random_state=42)"
   ]
  },
  {
   "cell_type": "code",
   "execution_count": 2,
   "metadata": {},
   "outputs": [],
   "source": [
    "# 导入数据\n",
    "import scipy\n",
    "import scipy.io as scio\n",
    "import numpy as np\n",
    "import os\n",
    "data_root = '/data/file/classification_data/2021.6.7T31/norm/'\n",
    "train_sumX_2015_norm = scio.loadmat(os.path.join(data_root, 'train_sumX_2015_norm.mat'))['X']\n",
    "train_sumy_2015_label = scio.loadmat(os.path.join(data_root, 'train_sumy_2015_label.mat'))['y']\n",
    "\n",
    "test_sumX_2015_norm = scio.loadmat(os.path.join(data_root, 'test_sumX_2015_norm.mat'))['X']\n",
    "test_sumy_2015_label = scio.loadmat(os.path.join(data_root, 'test_sumy_2015_label.mat'))['y']"
   ]
  },
  {
   "cell_type": "code",
   "execution_count": 3,
   "metadata": {},
   "outputs": [
    {
     "output_type": "execute_result",
     "data": {
      "text/plain": [
       "((5414, 448), (5414, 1), (64, 448), (64, 1))"
      ]
     },
     "metadata": {},
     "execution_count": 3
    }
   ],
   "source": [
    "train_sumX_2015_norm.shape, train_sumy_2015_label.shape, test_sumX_2015_norm.shape, test_sumy_2015_label.shape"
   ]
  },
  {
   "cell_type": "code",
   "execution_count": 4,
   "metadata": {},
   "outputs": [],
   "source": [
    "# 进行采样\n",
    "X_res, y_res = ada.fit_resample(train_sumX_2015_norm, train_sumy_2015_label)"
   ]
  },
  {
   "cell_type": "code",
   "execution_count": 5,
   "metadata": {},
   "outputs": [
    {
     "output_type": "execute_result",
     "data": {
      "text/plain": [
       "((10701, 448), (10701,))"
      ]
     },
     "metadata": {},
     "execution_count": 5
    }
   ],
   "source": [
    "X_res.shape, y_res.shape"
   ]
  },
  {
   "cell_type": "code",
   "execution_count": 6,
   "metadata": {},
   "outputs": [
    {
     "output_type": "execute_result",
     "data": {
      "text/plain": [
       "(10701,)"
      ]
     },
     "metadata": {},
     "execution_count": 6
    }
   ],
   "source": [
    "y_res.shape"
   ]
  },
  {
   "cell_type": "code",
   "execution_count": 7,
   "metadata": {},
   "outputs": [],
   "source": [
    "def clf_test(X_resr, y_res, X_test, y_test, clfs):\n",
    "    for clf in clfs:\n",
    "        clf.fit(X_res, y_res)\n",
    "        score = clf.score(X_test, y_test)\n",
    "        print(str(clf)+': '+ str(score))"
   ]
  },
  {
   "cell_type": "code",
   "execution_count": 8,
   "metadata": {},
   "outputs": [],
   "source": [
    "clfs = []\n",
    "from sklearn.svm import NuSVC\n",
    "from sklearn.pipeline import make_pipeline\n",
    "from sklearn.preprocessing import StandardScaler\n",
    "# clf = make_pipeline(StandardScaler(),LinearSVC(random_state=0, tol=1e-5))\n",
    "\n",
    "clf_nuSVC = NuSVC(nu=0.3)\n",
    "# clf.fit(X_res, y_res)\n",
    "clfs.append(clf_nuSVC)\n",
    "# -----------------------------------------------------------------------\n",
    "from sklearn.svm import LinearSVC\n",
    "clf_linearSVC = make_pipeline(StandardScaler(),\n",
    "                     LinearSVC(random_state=0, tol=1e-5, max_iter=10000))\n",
    "clfs.append(clf_linearSVC)\n",
    "# -----------------------------------------------------------------------\n",
    "from sklearn.svm import SVC\n",
    "clf_svc = make_pipeline(StandardScaler(), SVC(gamma='auto'))\n",
    "clfs.append(clf_svc)\n",
    "# -----------------------------------------------------------------------"
   ]
  },
  {
   "cell_type": "code",
   "execution_count": 9,
   "metadata": {},
   "outputs": [
    {
     "output_type": "execute_result",
     "data": {
      "text/plain": [
       "3"
      ]
     },
     "metadata": {},
     "execution_count": 9
    }
   ],
   "source": [
    "len(clfs)"
   ]
  },
  {
   "cell_type": "code",
   "execution_count": 10,
   "metadata": {},
   "outputs": [
    {
     "output_type": "stream",
     "name": "stdout",
     "text": [
      "NuSVC(nu=0.3): 0.578125\n",
      "/home/roczhang/anaconda3/envs/dataAna/lib/python3.6/site-packages/sklearn/svm/_base.py:986: ConvergenceWarning: Liblinear failed to converge, increase the number of iterations.\n",
      "  \"the number of iterations.\", ConvergenceWarning)\n",
      "Pipeline(steps=[('standardscaler', StandardScaler()),\n",
      "                ('linearsvc',\n",
      "                 LinearSVC(max_iter=10000, random_state=0, tol=1e-05))]): 0.5625\n",
      "Pipeline(steps=[('standardscaler', StandardScaler()),\n",
      "                ('svc', SVC(gamma='auto'))]): 0.5\n"
     ]
    }
   ],
   "source": [
    "clf_test(X_res, y_res, test_sumX_2015_norm, test_sumy_2015_label, clfs)"
   ]
  },
  {
   "cell_type": "code",
   "execution_count": null,
   "metadata": {},
   "outputs": [],
   "source": []
  }
 ]
}