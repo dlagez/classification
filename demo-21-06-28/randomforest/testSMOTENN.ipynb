{
 "cells": [
  {
   "cell_type": "code",
   "execution_count": 1,
   "metadata": {},
   "outputs": [],
   "source": [
    "import os\n",
    "import scipy\n",
    "import scipy.io as scio\n",
    "import numpy as np"
   ]
  },
  {
   "cell_type": "code",
   "execution_count": 2,
   "metadata": {},
   "outputs": [],
   "source": [
    "# from imblearn.over_sampling import SMOTE \n",
    "# sm = SMOTE(random_state=42)\n",
    "from imblearn.combine import SMOTEENN\n",
    "sm = SMOTEENN(random_state=42)\n"
   ]
  },
  {
   "cell_type": "code",
   "execution_count": 3,
   "metadata": {},
   "outputs": [
    {
     "name": "stdout",
     "output_type": "stream",
     "text": [
      "2012\n",
      "trainy_norm.shape: (1447, 1)\n",
      "data2012.mat\n",
      "2013\n",
      "trainy_norm.shape: (1251, 1)\n",
      "data2013.mat\n",
      "2014\n",
      "trainy_norm.shape: (1313, 1)\n",
      "data2014.mat\n",
      "2015\n",
      "trainy_norm.shape: (1403, 1)\n",
      "data2015.mat\n",
      "2016\n",
      "trainy_norm.shape: (1817, 1)\n",
      "data2016.mat\n"
     ]
    }
   ],
   "source": [
    "# 进行随机下采样，并使用MLP分类\n",
    "import scipy\n",
    "import scipy.io as scio\n",
    "import numpy as np\n",
    "import os\n",
    "# 读取训练和测试数据\n",
    "data_root = '/data/file/classification_data/2012-2017/'\n",
    "sumX = []\n",
    "sumy = []\n",
    "for year in range(2012, 2017):\n",
    "    print(year)\n",
    "    trainX_norm = scio.loadmat(os.path.join(data_root, 'data'+str(year)+'.mat'))['X']\n",
    "    trainy_norm = scio.loadmat(os.path.join(data_root, 'label'+str(year)+'.mat'))['y'].reshape(-1, 1)\n",
    "\n",
    "    print('trainy_norm.shape:', trainy_norm.shape)\n",
    "    print('data'+str(year)+'.mat')\n",
    "\n",
    "    X_re, y_re = sm.fit_resample(trainX_norm, trainy_norm)\n",
    "\n",
    "    sumX.append(X_re)\n",
    "    sumy.append(y_re)\n",
    "data_train = np.concatenate(sumX, axis=0)  # 将列表中的数据按0轴合并\n",
    "label_train = np.concatenate(sumy, axis=0)\n",
    "\n",
    "testX = scio.loadmat(os.path.join(data_root, 'testdata.mat'))['X']\n",
    "testy = scio.loadmat(os.path.join(data_root, 'testlabel.mat'))['y'].reshape(-1, 1)"
   ]
  },
  {
   "cell_type": "code",
   "execution_count": 4,
   "metadata": {},
   "outputs": [],
   "source": [
    "test_X_re, test_y_re = sm.fit_resample(testX, testy)"
   ]
  },
  {
   "cell_type": "code",
   "execution_count": 5,
   "metadata": {},
   "outputs": [
    {
     "name": "stdout",
     "output_type": "stream",
     "text": [
      "(14244, 448)\n",
      "(14244,)\n",
      "(2071, 448)\n",
      "(2071, 1)\n",
      "(4030, 448)\n",
      "(4030,)\n"
     ]
    }
   ],
   "source": [
    "\n",
    "print(data_train.shape)\n",
    "print(label_train.shape)\n",
    "print(testX.shape)\n",
    "print(testy.shape)\n",
    "print(test_X_re.shape)\n",
    "print(test_y_re.shape)\n"
   ]
  },
  {
   "cell_type": "code",
   "execution_count": 6,
   "metadata": {},
   "outputs": [
    {
     "data": {
      "text/plain": [
       "RandomForestClassifier(max_depth=2, random_state=0)"
      ]
     },
     "execution_count": 6,
     "metadata": {},
     "output_type": "execute_result"
    }
   ],
   "source": [
    "from sklearn.pipeline import make_pipeline\n",
    "from sklearn.preprocessing import StandardScaler\n",
    "from sklearn.ensemble import RandomForestClassifier\n",
    "clf = RandomForestClassifier(max_depth=2, random_state=0)\n",
    "clf.fit(data_train, label_train)"
   ]
  },
  {
   "cell_type": "code",
   "execution_count": 7,
   "metadata": {},
   "outputs": [
    {
     "data": {
      "text/plain": [
       "0.8348623853211009"
      ]
     },
     "execution_count": 7,
     "metadata": {},
     "output_type": "execute_result"
    }
   ],
   "source": [
    "clf.score(testX, testy)"
   ]
  },
  {
   "cell_type": "code",
   "execution_count": 8,
   "metadata": {},
   "outputs": [],
   "source": [
    "y_pred = clf.predict(testX)"
   ]
  },
  {
   "cell_type": "code",
   "execution_count": 9,
   "metadata": {},
   "outputs": [
    {
     "data": {
      "text/plain": [
       "0.6672456575682382"
      ]
     },
     "execution_count": 9,
     "metadata": {},
     "output_type": "execute_result"
    }
   ],
   "source": [
    "clf.score(test_X_re, test_y_re)"
   ]
  },
  {
   "cell_type": "code",
   "execution_count": 10,
   "metadata": {},
   "outputs": [
    {
     "name": "stdout",
     "output_type": "stream",
     "text": [
      "0.887450013903694\n",
      "0.511467662103329\n",
      "0.8348623853211009\n"
     ]
    }
   ],
   "source": [
    "# f1\n",
    "from sklearn.metrics import f1_score\n",
    "print(f1_score(testy, y_pred, average='weighted'))\n",
    "print(f1_score(testy, y_pred, average='macro'))\n",
    "print(f1_score(testy, y_pred, average='micro'))"
   ]
  },
  {
   "cell_type": "code",
   "execution_count": 11,
   "metadata": {},
   "outputs": [
    {
     "data": {
      "text/plain": [
       "array([[1707,  308],\n",
       "       [1033,  982]])"
      ]
     },
     "execution_count": 11,
     "metadata": {},
     "output_type": "execute_result"
    }
   ],
   "source": [
    "# 混淆矩阵\n",
    "y_pred_re = clf.predict(test_X_re)\n",
    "from sklearn.metrics import confusion_matrix\n",
    "confusion_matrix(test_y_re, y_pred_re)"
   ]
  },
  {
   "cell_type": "code",
   "execution_count": 12,
   "metadata": {},
   "outputs": [
    {
     "data": {
      "text/plain": [
       "0.6672456575682381"
      ]
     },
     "execution_count": 12,
     "metadata": {},
     "output_type": "execute_result"
    }
   ],
   "source": [
    "# auc\n",
    "from sklearn import metrics\n",
    "fpr, tpr, thresholds = metrics.roc_curve(test_y_re, y_pred_re)\n",
    "metrics.auc(fpr, tpr)"
   ]
  },
  {
   "cell_type": "code",
   "execution_count": null,
   "metadata": {},
   "outputs": [],
   "source": []
  }
 ],
 "metadata": {
  "interpreter": {
   "hash": "77665185498974e2aa551b3ed7ff3d92ad30b59c524e7ca2905901a81cbab4ea"
  },
  "kernelspec": {
   "display_name": "Python 3.6.13 64-bit ('dataAna': conda)",
   "name": "python3"
  },
  "language_info": {
   "name": "python",
   "version": ""
  },
  "orig_nbformat": 4
 },
 "nbformat": 4,
 "nbformat_minor": 2
}