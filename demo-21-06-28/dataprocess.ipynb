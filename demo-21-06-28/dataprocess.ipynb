{
 "metadata": {
  "language_info": {
   "codemirror_mode": {
    "name": "ipython",
    "version": 3
   },
   "file_extension": ".py",
   "mimetype": "text/x-python",
   "name": "python",
   "nbconvert_exporter": "python",
   "pygments_lexer": "ipython3",
   "version": "3.6.13"
  },
  "orig_nbformat": 4,
  "kernelspec": {
   "name": "python3",
   "display_name": "Python 3.6.13 64-bit ('dataAna': conda)"
  },
  "interpreter": {
   "hash": "77665185498974e2aa551b3ed7ff3d92ad30b59c524e7ca2905901a81cbab4ea"
  }
 },
 "nbformat": 4,
 "nbformat_minor": 2,
 "cells": [
  {
   "cell_type": "code",
   "execution_count": 1,
   "metadata": {},
   "outputs": [],
   "source": [
    "import os\n",
    "import scipy\n",
    "import scipy.io as scio\n",
    "import numpy as np\n",
    "from sklearn import preprocessing"
   ]
  },
  {
   "cell_type": "code",
   "execution_count": 5,
   "metadata": {},
   "outputs": [],
   "source": [
    " X_test = scio.loadmat(os.path.join('/data/file/classification_data/tmp/years/'+'2017/', 'X.mat'))['X']"
   ]
  },
  {
   "cell_type": "code",
   "execution_count": 6,
   "metadata": {},
   "outputs": [
    {
     "output_type": "execute_result",
     "data": {
      "text/plain": [
       "(2179, 448)"
      ]
     },
     "metadata": {},
     "execution_count": 6
    }
   ],
   "source": [
    "X_test.shape"
   ]
  },
  {
   "cell_type": "code",
   "execution_count": 20,
   "metadata": {},
   "outputs": [
    {
     "output_type": "stream",
     "name": "stdout",
     "text": [
      "start  0\n",
      "end  1447\n",
      "1447\n",
      "start  1447\n",
      "end  2698\n",
      "1251\n",
      "start  2698\n",
      "end  4011\n",
      "1313\n",
      "start  4011\n",
      "end  5414\n",
      "1403\n",
      "start  5414\n",
      "end  7231\n",
      "1817\n"
     ]
    }
   ],
   "source": [
    "# 将2012-2017年数据进行归一化\n",
    "def get_sumX(data_root, begin, end):\n",
    "    sumX = []\n",
    "    sumy = []\n",
    "    tmp = []\n",
    "    length = 0\n",
    "    # 读取数据和标签\n",
    "    for year in range(begin, end):\n",
    "        # data_root = '/data/file/classification_data/years/'\n",
    "        # 增加每年的X\n",
    "        X = scio.loadmat(os.path.join(data_root+str(year), 'X_drop2.mat'))['X']\n",
    "        length = length + X.shape[0]\n",
    "        \n",
    "        tmp.append(X.shape[0])\n",
    "        # 增加每年的y\n",
    "        sumX.append(X)\n",
    "        y = scio.loadmat(os.path.join(data_root+str(year), 'y_drop2.mat'))['y'].reshape(-1, 1)\n",
    "        # X_norm = preprocessing.normalize(X, norm='l2')\n",
    "        sumy.append(y)\n",
    "\n",
    "\n",
    "\n",
    "    # 处理数据部分\n",
    "    X_test = scio.loadmat(os.path.join(data_root+'2017/', 'X_drop2.mat'))['X']  # 增加测试的X\n",
    "    sumX.append(X_test)  # 将测试数据放进数据列表\n",
    "    data_X = np.concatenate(sumX, axis=0)  # 将列表中的数据按0轴合并\n",
    "    X_norm_all = preprocessing.normalize(data_X, norm='l2', axis=0)  # 训练和测试的样本统一化\n",
    "    trainX_norm = X_norm_all[:length]  # 取出训练数据\n",
    "    testX_norm = X_norm_all[length:]  # 取出测试数据\n",
    "\n",
    "    # 处理标签部分\n",
    "    testy_norm = scio.loadmat(os.path.join(data_root + '2017/', 'y_drop2.mat'))['y']  # 读取测试的y标签\n",
    "    # sumy.append(y_test)\n",
    "    trainy_norm = np.concatenate(sumy, axis=0)\n",
    "    # 返回训练数据、训练标签、测试数据、测试标签\n",
    "\n",
    "\n",
    "    start = 0\n",
    "    end = 0\n",
    "    save_year = 2012\n",
    "    for x in tmp:\n",
    "        end = start + x\n",
    "        print('start ', start)\n",
    "        print('end ', end)\n",
    "        print(x)\n",
    "        data = trainX_norm[start:end]\n",
    "        label = trainy_norm[start:end]\n",
    "        start = end\n",
    "        scipy.io.savemat(os.path.join(data_root, 'data'+str(save_year)+'.mat'), {'X': data})\n",
    "        scipy.io.savemat(os.path.join(data_root, 'label'+str(save_year)+'.mat'), {'y': label})\n",
    "        save_year += 1\n",
    "    scipy.io.savemat(os.path.join(data_root, 'testdata.mat'), {'X': testX_norm})\n",
    "    scipy.io.savemat(os.path.join(data_root, 'testlabel.mat'), {'y': testy_norm})\n",
    "    return trainX_norm, trainy_norm, testX_norm, testy_norm\n",
    "\n",
    "\n",
    "data_root = '/data/file/classification_data/tmp/years/'\n",
    "trainX_norm, trainy_norm, testX_norm, testy_norm = get_sumX(data_root, 2012, 2017)\n",
    "\n"
   ]
  },
  {
   "cell_type": "code",
   "execution_count": 10,
   "metadata": {},
   "outputs": [
    {
     "output_type": "execute_result",
     "data": {
      "text/plain": [
       "(7231, 448)"
      ]
     },
     "metadata": {},
     "execution_count": 10
    }
   ],
   "source": [
    "trainX_norm.shape\n"
   ]
  },
  {
   "cell_type": "code",
   "execution_count": null,
   "metadata": {},
   "outputs": [],
   "source": [
    "\n",
    "# 存储归一化的数据\n",
    "scipy.io.savemat(os.path.join(data_root, 'trainX_norm.mat'), {'X': trainX_norm})\n",
    "scipy.io.savemat(os.path.join(data_root, 'trainy_norm.mat'), {'y': trainy_norm})\n",
    "scipy.io.savemat(os.path.join(data_root, 'testX_norm.mat'), {'X': testX_norm})\n",
    "scipy.io.savemat(os.path.join(data_root, 'testy_norm.mat'), {'y': testy_norm})\n"
   ]
  }
 ]
}