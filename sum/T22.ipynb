{
 "metadata": {
  "language_info": {
   "codemirror_mode": {
    "name": "ipython",
    "version": 3
   },
   "file_extension": ".py",
   "mimetype": "text/x-python",
   "name": "python",
   "nbconvert_exporter": "python",
   "pygments_lexer": "ipython3",
   "version": "3.6.13"
  },
  "orig_nbformat": 4,
  "kernelspec": {
   "name": "python3",
   "display_name": "Python 3.6.13 64-bit ('dataAna': conda)"
  },
  "interpreter": {
   "hash": "77665185498974e2aa551b3ed7ff3d92ad30b59c524e7ca2905901a81cbab4ea"
  }
 },
 "nbformat": 4,
 "nbformat_minor": 2,
 "cells": [
  {
   "cell_type": "code",
   "execution_count": 1,
   "metadata": {},
   "outputs": [],
   "source": [
    "\n",
    "import scipy\n",
    "import scipy.io as scio\n",
    "import numpy as np\n",
    "import os\n",
    "from sklearn.pipeline import make_pipeline\n",
    "from sklearn.preprocessing import StandardScaler\n",
    "from sklearn.svm import NuSVC\n",
    "clf = make_pipeline(StandardScaler(), NuSVC())\n"
   ]
  },
  {
   "cell_type": "code",
   "execution_count": 2,
   "metadata": {},
   "outputs": [],
   "source": [
    "# t32 数据采样并保存\n",
    "\n",
    "# 读取训练和测试数据\n",
    "data_root = '/data/file/classification_data/T22/T22data/'\n",
    "T22TrainData = scio.loadmat(os.path.join(data_root, 'T22TrainData.mat'))['X']\n",
    "T22TestData = scio.loadmat(os.path.join(data_root, 'T22TestData.mat'))['X']\n",
    "\n",
    "T22TrainLabel = scio.loadmat(os.path.join(data_root, 'T22TrainLabel.mat'))['y']\n",
    "T22TestLabel = scio.loadmat(os.path.join(data_root, 'T22TestLabel.mat'))['y']\n"
   ]
  },
  {
   "cell_type": "code",
   "execution_count": 4,
   "metadata": {},
   "outputs": [
    {
     "output_type": "stream",
     "name": "stdout",
     "text": [
      "(7855, 448)\n(7855, 1)\n(112, 448)\n(112, 1)\n"
     ]
    }
   ],
   "source": [
    "print(T22TrainData.shape)\n",
    "print(T22TrainLabel.shape)\n",
    "print(T22TestData.shape)\n",
    "print(T22TestLabel.shape)"
   ]
  },
  {
   "cell_type": "code",
   "execution_count": 5,
   "metadata": {},
   "outputs": [],
   "source": [
    "list = []\n",
    "\n",
    "#   ------------------上采样------------------\n",
    "from imblearn.over_sampling import RandomOverSampler \n",
    "ros = RandomOverSampler(random_state=42)\n",
    "list.append(ros)\n",
    "\n",
    "from imblearn.over_sampling import SMOTE \n",
    "sm = SMOTE(random_state=42)\n",
    "list.append(sm)\n",
    "\n",
    "from imblearn.over_sampling import BorderlineSMOTE \n",
    "blsm = BorderlineSMOTE(random_state=42)\n",
    "list.append(blsm)\n",
    "\n",
    "from imblearn.over_sampling import ADASYN \n",
    "ada = ADASYN(random_state=42)\n",
    "list.append(ada)\n",
    "\n",
    "# -----------------Combination of over- and under-sampling------------\n",
    "from imblearn.combine import SMOTEENN \n",
    "sme = SMOTEENN(random_state=42)\n",
    "list.append(sme)\n",
    "\n",
    "from imblearn.combine import SMOTETomek \n",
    "smt = SMOTETomek(random_state=42)\n",
    "list.append(smt)\n",
    "\n",
    "# -----------------ubder sampling---------------------------\n",
    "from imblearn.under_sampling import NearMiss \n",
    "nm = NearMiss()\n",
    "list.append(nm)\n",
    "\n",
    "from imblearn.under_sampling import TomekLinks \n",
    "tl = TomekLinks()\n",
    "# list.append(tl)\n",
    "\n",
    "from imblearn.under_sampling import RandomUnderSampler \n",
    "rus = RandomUnderSampler(random_state=42)\n",
    "list.append(rus)"
   ]
  },
  {
   "cell_type": "code",
   "execution_count": 6,
   "metadata": {},
   "outputs": [
    {
     "output_type": "stream",
     "name": "stdout",
     "text": [
      "RandomOverSampler(random_state=42)\nSMOTE(random_state=42)\nBorderlineSMOTE(random_state=42)\nADASYN(random_state=42)\nSMOTEENN(random_state=42)\nSMOTETomek(random_state=42)\nNearMiss()\nRandomUnderSampler(random_state=42)\n"
     ]
    }
   ],
   "source": [
    "for method in list:\n",
    "    print(str(method))"
   ]
  },
  {
   "cell_type": "code",
   "execution_count": 7,
   "metadata": {},
   "outputs": [
    {
     "output_type": "stream",
     "name": "stdout",
     "text": [
      "-----------------开始----------------\n",
      "/data/file/classification_data/T22/samplings/RandomOverSampler(random_state=42)\n",
      "RandomOverSampler(random_state=42)\n",
      "(15410, 448) (15410,)\n",
      "0.5982142857142857\n",
      "-----------------开始----------------\n",
      "/data/file/classification_data/T22/samplings/SMOTE(random_state=42)\n",
      "SMOTE(random_state=42)\n",
      "(15410, 448) (15410,)\n",
      "0.5714285714285714\n",
      "-----------------开始----------------\n",
      "/data/file/classification_data/T22/samplings/BorderlineSMOTE(random_state=42)\n",
      "BorderlineSMOTE(random_state=42)\n",
      "(15410, 448) (15410,)\n",
      "0.625\n",
      "-----------------开始----------------\n",
      "/data/file/classification_data/T22/samplings/ADASYN(random_state=42)\n",
      "ADASYN(random_state=42)\n",
      "(15423, 448) (15423,)\n",
      "0.5625\n",
      "-----------------开始----------------\n",
      "/data/file/classification_data/T22/samplings/SMOTEENN(random_state=42)\n",
      "SMOTEENN(random_state=42)\n",
      "(14233, 448) (14233,)\n",
      "0.6071428571428571\n",
      "-----------------开始----------------\n",
      "/data/file/classification_data/T22/samplings/SMOTETomek(random_state=42)\n",
      "SMOTETomek(random_state=42)\n",
      "(15410, 448) (15410,)\n",
      "0.5714285714285714\n",
      "-----------------开始----------------\n",
      "/data/file/classification_data/T22/samplings/NearMiss()\n",
      "NearMiss()\n",
      "(300, 448) (300,)\n",
      "0.6964285714285714\n",
      "-----------------开始----------------\n",
      "/data/file/classification_data/T22/samplings/RandomUnderSampler(random_state=42)\n",
      "RandomUnderSampler(random_state=42)\n",
      "(300, 448) (300,)\n",
      "0.8125\n"
     ]
    }
   ],
   "source": [
    "save_data_root = '/data/file/classification_data/T22/samplings/'\n",
    "for i, x in enumerate(list) :\n",
    "    print('-----------------开始----------------')\n",
    "    current_dir = save_data_root + str(list[i])\n",
    "    print(current_dir)\n",
    "    print(str(list[i]))\n",
    "    if not os.path.exists(current_dir):\n",
    "        os.makedirs(current_dir)\n",
    "    data_sampling, label_sampling = list[i].fit_resample(T22TrainData, T22TrainLabel)\n",
    "    print(data_sampling.shape,  label_sampling.shape)\n",
    "    clf.fit(data_sampling, label_sampling)\n",
    "    print(clf.score(T22TestData, T22TestLabel))\n",
    "\n",
    "    # 保存mat文件\n",
    "    scipy.io.savemat(current_dir+\"/data_sampling.mat\", {'X': data_sampling})\n",
    "    scipy.io.savemat(current_dir+\"/label_sampling.mat\", {'y': label_sampling})"
   ]
  },
  {
   "cell_type": "code",
   "execution_count": null,
   "metadata": {},
   "outputs": [],
   "source": []
  }
 ]
}