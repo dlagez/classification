{
 "metadata": {
  "language_info": {
   "codemirror_mode": {
    "name": "ipython",
    "version": 3
   },
   "file_extension": ".py",
   "mimetype": "text/x-python",
   "name": "python",
   "nbconvert_exporter": "python",
   "pygments_lexer": "ipython3",
   "version": "3.6.13"
  },
  "orig_nbformat": 4,
  "kernelspec": {
   "name": "python3",
   "display_name": "Python 3.6.13 64-bit ('dataAna': conda)"
  },
  "interpreter": {
   "hash": "77665185498974e2aa551b3ed7ff3d92ad30b59c524e7ca2905901a81cbab4ea"
  }
 },
 "nbformat": 4,
 "nbformat_minor": 2,
 "cells": [
  {
   "cell_type": "code",
   "execution_count": 7,
   "metadata": {},
   "outputs": [],
   "source": [
    "\n",
    "import scipy\n",
    "import scipy.io as scio\n",
    "import numpy as np\n",
    "import os\n",
    "from sklearn.pipeline import make_pipeline\n",
    "from sklearn.preprocessing import StandardScaler\n",
    "from sklearn.svm import NuSVC\n",
    "clf = make_pipeline(StandardScaler(), NuSVC())\n"
   ]
  },
  {
   "cell_type": "code",
   "execution_count": 8,
   "metadata": {},
   "outputs": [],
   "source": [
    "# t32 数据采样并保存\n",
    "\n",
    "# 读取训练和测试数据\n",
    "data_root = '/data/file/classification_data/T32/T32data/'\n",
    "T32TrainData = scio.loadmat(os.path.join(data_root, 'T32TrainData.mat'))['X']\n",
    "T32TestData = scio.loadmat(os.path.join(data_root, 'T32TestData.mat'))['X']\n",
    "\n",
    "T32TrainLabel = scio.loadmat(os.path.join(data_root, 'T32TrainLabel.mat'))['y']\n",
    "T32TestLabel = scio.loadmat(os.path.join(data_root, 'T32TestLabel.mat'))['y']\n"
   ]
  },
  {
   "cell_type": "code",
   "execution_count": 9,
   "metadata": {},
   "outputs": [],
   "source": [
    "list = []\n",
    "\n",
    "#   ------------------上采样------------------\n",
    "from imblearn.over_sampling import RandomOverSampler \n",
    "ros = RandomOverSampler(random_state=42)\n",
    "list.append(ros)\n",
    "\n",
    "from imblearn.over_sampling import SMOTE \n",
    "sm = SMOTE(random_state=42)\n",
    "list.append(sm)\n",
    "\n",
    "from imblearn.over_sampling import BorderlineSMOTE \n",
    "blsm = BorderlineSMOTE(random_state=42)\n",
    "list.append(blsm)\n",
    "\n",
    "from imblearn.over_sampling import ADASYN \n",
    "ada = ADASYN(random_state=42)\n",
    "list.append(ada)\n",
    "\n",
    "# -----------------Combination of over- and under-sampling------------\n",
    "from imblearn.combine import SMOTEENN \n",
    "sme = SMOTEENN(random_state=42)\n",
    "list.append(sme)\n",
    "\n",
    "from imblearn.combine import SMOTETomek \n",
    "smt = SMOTETomek(random_state=42)\n",
    "list.append(smt)\n",
    "\n",
    "# -----------------ubder sampling---------------------------\n",
    "from imblearn.under_sampling import NearMiss \n",
    "nm = NearMiss()\n",
    "list.append(nm)\n",
    "\n",
    "from imblearn.under_sampling import TomekLinks \n",
    "tl = TomekLinks()\n",
    "# list.append(tl)\n",
    "\n",
    "from imblearn.under_sampling import RandomUnderSampler \n",
    "rus = RandomUnderSampler(random_state=42)\n",
    "list.append(rus)"
   ]
  },
  {
   "cell_type": "code",
   "execution_count": 10,
   "metadata": {},
   "outputs": [
    {
     "output_type": "stream",
     "name": "stdout",
     "text": [
      "RandomOverSampler(random_state=42)\nSMOTE(random_state=42)\nBorderlineSMOTE(random_state=42)\nADASYN(random_state=42)\nSMOTEENN(random_state=42)\nSMOTETomek(random_state=42)\nNearMiss()\nRandomUnderSampler(random_state=42)\n"
     ]
    }
   ],
   "source": [
    "for method in list:\n",
    "    print(str(method))"
   ]
  },
  {
   "cell_type": "code",
   "execution_count": 11,
   "metadata": {},
   "outputs": [
    {
     "output_type": "stream",
     "name": "stdout",
     "text": [
      "-----------------开始----------------\n",
      "/data/file/classification_data/T32/samplings/RandomOverSampler(random_state=42)\n",
      "RandomOverSampler(random_state=42)\n",
      "(14244, 448) (14244,)\n",
      "0.7142857142857143\n",
      "-----------------开始----------------\n",
      "/data/file/classification_data/T32/samplings/SMOTE(random_state=42)\n",
      "SMOTE(random_state=42)\n",
      "(14244, 448) (14244,)\n",
      "0.6428571428571429\n",
      "-----------------开始----------------\n",
      "/data/file/classification_data/T32/samplings/BorderlineSMOTE(random_state=42)\n",
      "BorderlineSMOTE(random_state=42)\n",
      "(14244, 448) (14244,)\n",
      "0.6517857142857143\n",
      "-----------------开始----------------\n",
      "/data/file/classification_data/T32/samplings/ADASYN(random_state=42)\n",
      "ADASYN(random_state=42)\n",
      "(14255, 448) (14255,)\n",
      "0.6428571428571429\n",
      "-----------------开始----------------\n",
      "/data/file/classification_data/T32/samplings/SMOTEENN(random_state=42)\n",
      "SMOTEENN(random_state=42)\n",
      "(13318, 448) (13318,)\n",
      "0.6607142857142857\n",
      "-----------------开始----------------\n",
      "/data/file/classification_data/T32/samplings/SMOTETomek(random_state=42)\n",
      "SMOTETomek(random_state=42)\n",
      "(14244, 448) (14244,)\n",
      "0.6428571428571429\n",
      "-----------------开始----------------\n",
      "/data/file/classification_data/T32/samplings/NearMiss()\n",
      "NearMiss()\n",
      "(218, 448) (218,)\n",
      "0.7589285714285714\n",
      "-----------------开始----------------\n",
      "/data/file/classification_data/T32/samplings/RandomUnderSampler(random_state=42)\n",
      "RandomUnderSampler(random_state=42)\n",
      "(218, 448) (218,)\n",
      "0.75\n"
     ]
    }
   ],
   "source": [
    "save_data_root = '/data/file/classification_data/T32/samplings/'\n",
    "for i, x in enumerate(list) :\n",
    "    print('-----------------开始----------------')\n",
    "    current_dir = save_data_root + str(list[i])\n",
    "    print(current_dir)\n",
    "    print(str(list[i]))\n",
    "    if not os.path.exists(current_dir):\n",
    "        os.makedirs(current_dir)\n",
    "    data_sampling, label_sampling = list[i].fit_resample(T32TrainData, T32TrainLabel)\n",
    "    print(data_sampling.shape,  label_sampling.shape)\n",
    "    clf.fit(data_sampling, label_sampling)\n",
    "    print(clf.score(T32TestData, T32TestLabel))\n",
    "\n",
    "    # 保存mat文件\n",
    "    # scipy.io.savemat(current_dir+\"/data_sampling.mat\", {'X': data_sampling})\n",
    "    # scipy.io.savemat(current_dir+\"/label_sampling.mat\", {'y': label_sampling})"
   ]
  },
  {
   "cell_type": "code",
   "execution_count": null,
   "metadata": {},
   "outputs": [],
   "source": []
  }
 ]
}