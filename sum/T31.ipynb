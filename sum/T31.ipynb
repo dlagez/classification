{
 "metadata": {
  "language_info": {
   "codemirror_mode": {
    "name": "ipython",
    "version": 3
   },
   "file_extension": ".py",
   "mimetype": "text/x-python",
   "name": "python",
   "nbconvert_exporter": "python",
   "pygments_lexer": "ipython3",
   "version": "3.6.13"
  },
  "orig_nbformat": 4,
  "kernelspec": {
   "name": "python3",
   "display_name": "Python 3.6.13 64-bit ('dataAna': conda)"
  },
  "interpreter": {
   "hash": "77665185498974e2aa551b3ed7ff3d92ad30b59c524e7ca2905901a81cbab4ea"
  }
 },
 "nbformat": 4,
 "nbformat_minor": 2,
 "cells": [
  {
   "cell_type": "code",
   "execution_count": 3,
   "metadata": {},
   "outputs": [],
   "source": [
    "\n",
    "import scipy\n",
    "import scipy.io as scio\n",
    "import numpy as np\n",
    "import os\n",
    "from sklearn.pipeline import make_pipeline\n",
    "from sklearn.preprocessing import StandardScaler\n",
    "from sklearn.svm import NuSVC\n",
    "clf = NuSVC(nu=0.3)\n",
    "\n"
   ]
  },
  {
   "cell_type": "code",
   "execution_count": 5,
   "metadata": {},
   "outputs": [],
   "source": [
    "# t32 数据采样并保存\n",
    "\n",
    "# 读取训练和测试数据\n",
    "data_root = '/data/file/classification_data/T31/tmp/'\n",
    "T31TrainData = scio.loadmat(os.path.join(data_root, 'train_sumX_2015_norm.mat'))['X']\n",
    "T31TestData = scio.loadmat(os.path.join(data_root, 'test_sumX_2015_norm.mat'))['X']\n",
    "\n",
    "T31TrainLabel = scio.loadmat(os.path.join(data_root, 'train_sumy_2015_label.mat'))['y']\n",
    "T31TestLabel = scio.loadmat(os.path.join(data_root, 'test_sumy_2015_label.mat'))['y']\n"
   ]
  },
  {
   "cell_type": "code",
   "execution_count": 3,
   "metadata": {},
   "outputs": [
    {
     "output_type": "stream",
     "name": "stdout",
     "text": [
      "(5414, 448)\n(5414, 1)\n(64, 448)\n(64, 1)\n"
     ]
    }
   ],
   "source": [
    "print(T31TrainData.shape)\n",
    "print(T31TrainLabel.shape)\n",
    "print(T31TestData.shape)\n",
    "print(T31TestLabel.shape)"
   ]
  },
  {
   "cell_type": "code",
   "execution_count": 4,
   "metadata": {},
   "outputs": [],
   "source": [
    "list = []\n",
    "\n",
    "#   ------------------上采样------------------\n",
    "from imblearn.over_sampling import RandomOverSampler \n",
    "ros = RandomOverSampler(random_state=42)\n",
    "list.append(ros)\n",
    "\n",
    "from imblearn.over_sampling import SMOTE \n",
    "sm = SMOTE(random_state=42)\n",
    "list.append(sm)\n",
    "\n",
    "from imblearn.over_sampling import BorderlineSMOTE \n",
    "blsm = BorderlineSMOTE(random_state=42)\n",
    "list.append(blsm)\n",
    "\n",
    "from imblearn.over_sampling import ADASYN \n",
    "ada = ADASYN(random_state=42)\n",
    "list.append(ada)\n",
    "\n",
    "# -----------------Combination of over- and under-sampling------------\n",
    "from imblearn.combine import SMOTEENN \n",
    "sme = SMOTEENN(random_state=42)\n",
    "list.append(sme)\n",
    "\n",
    "from imblearn.combine import SMOTETomek \n",
    "smt = SMOTETomek(random_state=42)\n",
    "list.append(smt)\n",
    "\n",
    "# -----------------ubder sampling---------------------------\n",
    "from imblearn.under_sampling import NearMiss \n",
    "nm = NearMiss()\n",
    "list.append(nm)\n",
    "\n",
    "from imblearn.under_sampling import TomekLinks \n",
    "tl = TomekLinks()\n",
    "# list.append(tl)\n",
    "\n",
    "from imblearn.under_sampling import RandomUnderSampler \n",
    "rus = RandomUnderSampler(random_state=42)\n",
    "list.append(rus)"
   ]
  },
  {
   "cell_type": "code",
   "execution_count": 5,
   "metadata": {},
   "outputs": [
    {
     "output_type": "stream",
     "name": "stdout",
     "text": [
      "RandomOverSampler(random_state=42)\nSMOTE(random_state=42)\nBorderlineSMOTE(random_state=42)\nADASYN(random_state=42)\nSMOTEENN(random_state=42)\nSMOTETomek(random_state=42)\nNearMiss()\nRandomUnderSampler(random_state=42)\n"
     ]
    }
   ],
   "source": [
    "for method in list:\n",
    "    print(str(method))"
   ]
  },
  {
   "cell_type": "code",
   "execution_count": 6,
   "metadata": {},
   "outputs": [
    {
     "output_type": "stream",
     "name": "stdout",
     "text": [
      "-----------------开始----------------\n",
      "/data/file/classification_data/T31/samplings/RandomOverSampler(random_state=42)\n",
      "RandomOverSampler(random_state=42)\n",
      "(10674, 448) (10674,)\n",
      "0.625\n",
      "-----------------开始----------------\n",
      "/data/file/classification_data/T31/samplings/SMOTE(random_state=42)\n",
      "SMOTE(random_state=42)\n",
      "(10674, 448) (10674,)\n",
      "0.578125\n",
      "-----------------开始----------------\n",
      "/data/file/classification_data/T31/samplings/BorderlineSMOTE(random_state=42)\n",
      "BorderlineSMOTE(random_state=42)\n",
      "(10674, 448) (10674,)\n",
      "0.53125\n",
      "-----------------开始----------------\n",
      "/data/file/classification_data/T31/samplings/ADASYN(random_state=42)\n",
      "ADASYN(random_state=42)\n",
      "(10701, 448) (10701,)\n",
      "0.578125\n",
      "-----------------开始----------------\n",
      "/data/file/classification_data/T31/samplings/SMOTEENN(random_state=42)\n",
      "SMOTEENN(random_state=42)\n",
      "(10041, 448) (10041,)\n",
      "0.609375\n",
      "-----------------开始----------------\n",
      "/data/file/classification_data/T31/samplings/SMOTETomek(random_state=42)\n",
      "SMOTETomek(random_state=42)\n",
      "(10674, 448) (10674,)\n",
      "0.578125\n",
      "-----------------开始----------------\n",
      "/data/file/classification_data/T31/samplings/NearMiss()\n",
      "NearMiss()\n",
      "(154, 448) (154,)\n",
      "0.515625\n",
      "-----------------开始----------------\n",
      "/data/file/classification_data/T31/samplings/RandomUnderSampler(random_state=42)\n",
      "RandomUnderSampler(random_state=42)\n",
      "(154, 448) (154,)\n",
      "0.734375\n"
     ]
    }
   ],
   "source": [
    "save_data_root = '/data/file/classification_data/T31/samplings/'\n",
    "for i, x in enumerate(list) :\n",
    "    print('-----------------开始----------------')\n",
    "    current_dir = save_data_root + str(list[i])\n",
    "    print(current_dir)\n",
    "    print(str(list[i]))\n",
    "    if not os.path.exists(current_dir):\n",
    "        os.makedirs(current_dir)\n",
    "    data_sampling, label_sampling = list[i].fit_resample(T31TrainData, T31TrainLabel)\n",
    "    print(data_sampling.shape,  label_sampling.shape)\n",
    "    clf.fit(data_sampling, label_sampling)\n",
    "    print(clf.score(T31TestData, T31TestLabel))\n",
    "\n",
    "    # 保存mat文件\n",
    "    scipy.io.savemat(current_dir+\"/data_sampling.mat\", {'X': data_sampling})\n",
    "    scipy.io.savemat(current_dir+\"/label_sampling.mat\", {'y': label_sampling})"
   ]
  },
  {
   "cell_type": "code",
   "execution_count": 6,
   "metadata": {},
   "outputs": [
    {
     "output_type": "stream",
     "name": "stderr",
     "text": [
      "/home/roczhang/anaconda3/envs/dataAna/lib/python3.6/site-packages/sklearn/utils/validation.py:63: DataConversionWarning: A column-vector y was passed when a 1d array was expected. Please change the shape of y to (n_samples, ), for example using ravel().\n",
      "  return f(*args, **kwargs)\n",
      "0.734375\n",
      "/home/roczhang/anaconda3/envs/dataAna/lib/python3.6/site-packages/sklearn/utils/validation.py:63: DataConversionWarning: A column-vector y was passed when a 1d array was expected. Please change the shape of y to (n_samples, ), for example using ravel().\n",
      "  return f(*args, **kwargs)\n",
      "0.671875\n"
     ]
    }
   ],
   "source": [
    "from imblearn.ensemble import EasyEnsembleClassifier \n",
    "eec = EasyEnsembleClassifier(random_state=42)\n",
    "eec.fit(T31TrainData, T31TrainLabel)\n",
    "print(eec.score(T31TestData, T31TestLabel))\n",
    "\n",
    "from imblearn.ensemble import BalancedBaggingClassifier \n",
    "bbc = BalancedBaggingClassifier(random_state=42)\n",
    "bbc.fit(T31TrainData, T31TrainLabel)\n",
    "print(bbc.score(T31TestData, T31TestLabel)) "
   ]
  },
  {
   "cell_type": "code",
   "execution_count": null,
   "metadata": {},
   "outputs": [],
   "source": []
  }
 ]
}